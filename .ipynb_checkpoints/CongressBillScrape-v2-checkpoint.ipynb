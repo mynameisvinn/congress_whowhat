{
 "cells": [
  {
   "cell_type": "code",
   "execution_count": 31,
   "metadata": {},
   "outputs": [],
   "source": [
    "from urllib.request import urlopen\n",
    "import bs4\n",
    "import requests\n",
    "from lxml import html\n",
    "from lxml.cssselect import CSSSelector\n",
    "import pandas as pd\n",
    "import numpy as np"
   ]
  },
  {
   "cell_type": "code",
   "execution_count": 6,
   "metadata": {},
   "outputs": [],
   "source": [
    "bills = []\n",
    "xml_range = range(1,1000)"
   ]
  },
  {
   "cell_type": "code",
   "execution_count": 7,
   "metadata": {},
   "outputs": [],
   "source": [
    "for i in xml_range:\n",
    "    url = 'https://www.govinfo.gov/bulkdata/BILLSTATUS/115/hr/BILLSTATUS-115hr' + str(i) + '.xml'\n",
    "    source = requests.get(url)\n",
    "    ntree = html.document_fromstring(source.content)\n",
    "    text = ntree.xpath('//billsubjects/policyarea/name/text()')\n",
    "    bills.append(text)"
   ]
  },
  {
   "cell_type": "code",
   "execution_count": 8,
   "metadata": {},
   "outputs": [
    {
     "name": "stdout",
     "output_type": "stream",
     "text": [
      "[['Taxation'], [], [], [], ['Government Operations and Politics'], [], ['Civil Rights and Liberties, Minority Issues'], [], [], ['Finance and Financial Sector'], [], ['Government Operations and Politics'], [], [], ['Labor and Employment'], [], [], [], ['Arts, Culture, Religion'], ['Government Operations and Politics'], ['Government Operations and Politics'], ['Emergency Management'], ['Water Resources Development'], ['Finance and Financial Sector'], ['Taxation'], ['Government Operations and Politics'], ['Armed Forces and National Security'], ['Armed Forces and National Security'], ['Taxation'], ['Taxation'], ['Government Operations and Politics'], ['Taxation'], ['Government Operations and Politics'], ['Crime and Law Enforcement'], ['Taxation'], ['Crime and Law Enforcement'], ['Crime and Law Enforcement'], ['Crime and Law Enforcement'], ['Government Operations and Politics'], ['Civil Rights and Liberties, Minority Issues'], ['Government Operations and Politics'], ['Armed Forces and National Security'], ['Armed Forces and National Security'], ['Sports and Recreation'], ['Government Operations and Politics'], ['Public Lands and Natural Resources'], ['Crime and Law Enforcement'], ['International Affairs'], ['Energy'], ['Government Operations and Politics'], ['Agriculture and Food'], ['Labor and Employment'], ['Crime and Law Enforcement'], ['Emergency Management'], ['Education'], ['Education'], ['Crime and Law Enforcement'], ['Emergency Management'], ['Emergency Management'], ['Immigration'], ['Crime and Law Enforcement'], ['Crime and Law Enforcement'], ['Taxation'], ['Crime and Law Enforcement'], ['Crime and Law Enforcement'], ['Transportation and Public Works'], ['Social Welfare'], ['Crime and Law Enforcement'], ['Government Operations and Politics'], ['Government Operations and Politics'], ['Government Operations and Politics'], ['Government Operations and Politics'], ['Government Operations and Politics'], ['Government Operations and Politics'], ['Government Operations and Politics'], ['Government Operations and Politics'], ['Government Operations and Politics'], ['Finance and Financial Sector'], ['Finance and Financial Sector'], ['Immigration'], ['Immigration'], ['International Affairs'], ['Immigration'], ['Crime and Law Enforcement'], ['Economics and Public Finance'], ['Economics and Public Finance'], ['Economics and Public Finance'], ['Public Lands and Natural Resources'], ['Housing and Community Development'], ['Armed Forces and National Security'], ['Armed Forces and National Security'], ['Armed Forces and National Security'], ['Armed Forces and National Security'], ['Armed Forces and National Security'], ['Armed Forces and National Security'], ['Transportation and Public Works'], ['Congress'], ['Civil Rights and Liberties, Minority Issues'], ['Transportation and Public Works']]\n"
     ]
    }
   ],
   "source": [
    "print(bills)"
   ]
  },
  {
   "cell_type": "code",
   "execution_count": 263,
   "metadata": {},
   "outputs": [
    {
     "data": {
      "text/plain": [
       "['Taxation']"
      ]
     },
     "execution_count": 263,
     "metadata": {},
     "output_type": "execute_result"
    }
   ],
   "source": [
    "ntree.xpath('//billsubjects/policyarea/name/text()')\n",
    "bills.append(text)"
   ]
  },
  {
   "cell_type": "code",
   "execution_count": 10,
   "metadata": {},
   "outputs": [],
   "source": [
    "import matplotlib.pyplot as plt"
   ]
  },
  {
   "cell_type": "code",
   "execution_count": 16,
   "metadata": {},
   "outputs": [],
   "source": [
    "bills.sort()"
   ]
  },
  {
   "cell_type": "code",
   "execution_count": 17,
   "metadata": {},
   "outputs": [
    {
     "name": "stdout",
     "output_type": "stream",
     "text": [
      "[[], [], [], [], [], [], [], [], [], [], [], [], ['Agriculture and Food'], ['Armed Forces and National Security'], ['Armed Forces and National Security'], ['Armed Forces and National Security'], ['Armed Forces and National Security'], ['Armed Forces and National Security'], ['Armed Forces and National Security'], ['Armed Forces and National Security'], ['Armed Forces and National Security'], ['Armed Forces and National Security'], ['Armed Forces and National Security'], ['Arts, Culture, Religion'], ['Civil Rights and Liberties, Minority Issues'], ['Civil Rights and Liberties, Minority Issues'], ['Civil Rights and Liberties, Minority Issues'], ['Congress'], ['Crime and Law Enforcement'], ['Crime and Law Enforcement'], ['Crime and Law Enforcement'], ['Crime and Law Enforcement'], ['Crime and Law Enforcement'], ['Crime and Law Enforcement'], ['Crime and Law Enforcement'], ['Crime and Law Enforcement'], ['Crime and Law Enforcement'], ['Crime and Law Enforcement'], ['Crime and Law Enforcement'], ['Crime and Law Enforcement'], ['Crime and Law Enforcement'], ['Economics and Public Finance'], ['Economics and Public Finance'], ['Economics and Public Finance'], ['Education'], ['Education'], ['Emergency Management'], ['Emergency Management'], ['Emergency Management'], ['Emergency Management'], ['Energy'], ['Finance and Financial Sector'], ['Finance and Financial Sector'], ['Finance and Financial Sector'], ['Finance and Financial Sector'], ['Government Operations and Politics'], ['Government Operations and Politics'], ['Government Operations and Politics'], ['Government Operations and Politics'], ['Government Operations and Politics'], ['Government Operations and Politics'], ['Government Operations and Politics'], ['Government Operations and Politics'], ['Government Operations and Politics'], ['Government Operations and Politics'], ['Government Operations and Politics'], ['Government Operations and Politics'], ['Government Operations and Politics'], ['Government Operations and Politics'], ['Government Operations and Politics'], ['Government Operations and Politics'], ['Government Operations and Politics'], ['Government Operations and Politics'], ['Government Operations and Politics'], ['Government Operations and Politics'], ['Housing and Community Development'], ['Immigration'], ['Immigration'], ['Immigration'], ['Immigration'], ['International Affairs'], ['International Affairs'], ['Labor and Employment'], ['Labor and Employment'], ['Public Lands and Natural Resources'], ['Public Lands and Natural Resources'], ['Social Welfare'], ['Sports and Recreation'], ['Taxation'], ['Taxation'], ['Taxation'], ['Taxation'], ['Taxation'], ['Taxation'], ['Taxation'], ['Transportation and Public Works'], ['Transportation and Public Works'], ['Transportation and Public Works'], ['Water Resources Development']]\n"
     ]
    }
   ],
   "source": [
    "print(bills)"
   ]
  },
  {
   "cell_type": "code",
   "execution_count": 45,
   "metadata": {},
   "outputs": [],
   "source": [
    "from collections import Counter"
   ]
  },
  {
   "cell_type": "code",
   "execution_count": 46,
   "metadata": {},
   "outputs": [
    {
     "name": "stdout",
     "output_type": "stream",
     "text": [
      "[[], [], [], [], [], [], [], [], [], [], [], [], ['Agriculture and Food'], ['Armed Forces and National Security'], ['Armed Forces and National Security'], ['Armed Forces and National Security'], ['Armed Forces and National Security'], ['Armed Forces and National Security'], ['Armed Forces and National Security'], ['Armed Forces and National Security'], ['Armed Forces and National Security'], ['Armed Forces and National Security'], ['Armed Forces and National Security'], ['Arts, Culture, Religion'], ['Civil Rights and Liberties, Minority Issues'], ['Civil Rights and Liberties, Minority Issues'], ['Civil Rights and Liberties, Minority Issues'], ['Congress'], ['Crime and Law Enforcement'], ['Crime and Law Enforcement'], ['Crime and Law Enforcement'], ['Crime and Law Enforcement'], ['Crime and Law Enforcement'], ['Crime and Law Enforcement'], ['Crime and Law Enforcement'], ['Crime and Law Enforcement'], ['Crime and Law Enforcement'], ['Crime and Law Enforcement'], ['Crime and Law Enforcement'], ['Crime and Law Enforcement'], ['Crime and Law Enforcement'], ['Economics and Public Finance'], ['Economics and Public Finance'], ['Economics and Public Finance'], ['Education'], ['Education'], ['Emergency Management'], ['Emergency Management'], ['Emergency Management'], ['Emergency Management'], ['Energy'], ['Finance and Financial Sector'], ['Finance and Financial Sector'], ['Finance and Financial Sector'], ['Finance and Financial Sector'], ['Government Operations and Politics'], ['Government Operations and Politics'], ['Government Operations and Politics'], ['Government Operations and Politics'], ['Government Operations and Politics'], ['Government Operations and Politics'], ['Government Operations and Politics'], ['Government Operations and Politics'], ['Government Operations and Politics'], ['Government Operations and Politics'], ['Government Operations and Politics'], ['Government Operations and Politics'], ['Government Operations and Politics'], ['Government Operations and Politics'], ['Government Operations and Politics'], ['Government Operations and Politics'], ['Government Operations and Politics'], ['Government Operations and Politics'], ['Government Operations and Politics'], ['Government Operations and Politics'], ['Housing and Community Development'], ['Immigration'], ['Immigration'], ['Immigration'], ['Immigration'], ['International Affairs'], ['International Affairs'], ['Labor and Employment'], ['Labor and Employment'], ['Public Lands and Natural Resources'], ['Public Lands and Natural Resources'], ['Social Welfare'], ['Sports and Recreation'], ['Taxation'], ['Taxation'], ['Taxation'], ['Taxation'], ['Taxation'], ['Taxation'], ['Taxation'], ['Transportation and Public Works'], ['Transportation and Public Works'], ['Transportation and Public Works'], ['Water Resources Development']]\n"
     ]
    }
   ],
   "source": [
    "print(bills)"
   ]
  },
  {
   "cell_type": "code",
   "execution_count": 22,
   "metadata": {},
   "outputs": [],
   "source": [
    "flat_list = [item for sublist in bills for item in sublist]"
   ]
  },
  {
   "cell_type": "code",
   "execution_count": 47,
   "metadata": {},
   "outputs": [],
   "source": [
    "counts = Counter(flat_list)"
   ]
  },
  {
   "cell_type": "code",
   "execution_count": 27,
   "metadata": {},
   "outputs": [
    {
     "name": "stdout",
     "output_type": "stream",
     "text": [
      "Counter({'Government Operations and Politics': 20, 'Crime and Law Enforcement': 13, 'Armed Forces and National Security': 10, 'Taxation': 7, 'Emergency Management': 4, 'Finance and Financial Sector': 4, 'Immigration': 4, 'Civil Rights and Liberties, Minority Issues': 3, 'Economics and Public Finance': 3, 'Transportation and Public Works': 3, 'Education': 2, 'International Affairs': 2, 'Labor and Employment': 2, 'Public Lands and Natural Resources': 2, 'Agriculture and Food': 1, 'Arts, Culture, Religion': 1, 'Congress': 1, 'Energy': 1, 'Housing and Community Development': 1, 'Social Welfare': 1, 'Sports and Recreation': 1, 'Water Resources Development': 1})\n"
     ]
    }
   ],
   "source": [
    "print(counts)"
   ]
  },
  {
   "cell_type": "code",
   "execution_count": 28,
   "metadata": {},
   "outputs": [
    {
     "data": {
      "text/plain": [
       "collections.Counter"
      ]
     },
     "execution_count": 28,
     "metadata": {},
     "output_type": "execute_result"
    }
   ],
   "source": [
    "type(counts)"
   ]
  },
  {
   "cell_type": "code",
   "execution_count": 43,
   "metadata": {},
   "outputs": [],
   "source": [
    "# Counter data, counter is your counter object\n",
    "keys = counts.keys()\n",
    "y_pos = np.arange(len(keys))\n",
    "# get the counts for each key, assuming the values are numerical\n",
    "performance = [counts[k] for k in keys]\n",
    "# not sure if you want this :S"
   ]
  },
  {
   "cell_type": "code",
   "execution_count": 37,
   "metadata": {},
   "outputs": [
    {
     "name": "stdout",
     "output_type": "stream",
     "text": [
      "dict_keys(['Agriculture and Food', 'Armed Forces and National Security', 'Arts, Culture, Religion', 'Civil Rights and Liberties, Minority Issues', 'Congress', 'Crime and Law Enforcement', 'Economics and Public Finance', 'Education', 'Emergency Management', 'Energy', 'Finance and Financial Sector', 'Government Operations and Politics', 'Housing and Community Development', 'Immigration', 'International Affairs', 'Labor and Employment', 'Public Lands and Natural Resources', 'Social Welfare', 'Sports and Recreation', 'Taxation', 'Transportation and Public Works', 'Water Resources Development'])\n"
     ]
    }
   ],
   "source": [
    "print(keys)"
   ]
  },
  {
   "cell_type": "code",
   "execution_count": 42,
   "metadata": {},
   "outputs": [
    {
     "data": {
      "image/png": "[encoded data removed]",
      "text/plain": [
       "<matplotlib.figure.Figure at 0x113fc0cf8>"
      ]
     },
     "metadata": {},
     "output_type": "display_data"
    }
   ],
   "source": [
    "plt.barh(y_pos, performance, align='center', alpha=0.3)\n",
    "plt.yticks(y_pos, keys)\n",
    "plt.title('Bills by Policy Area')\n",
    "\n",
    "plt.show()"
   ]
  },
  {
   "cell_type": "code",
   "execution_count": null,
   "metadata": {},
   "outputs": [],
   "source": []
  }
 ],
 "metadata": {
  "kernelspec": {
   "display_name": "Python 3",
   "language": "python",
   "name": "python3"
  },
  "language_info": {
   "codemirror_mode": {
    "name": "ipython",
    "version": 3
   },
   "file_extension": ".py",
   "mimetype": "text/x-python",
   "name": "python",
   "nbconvert_exporter": "python",
   "pygments_lexer": "ipython3",
   "version": "3.6.4"
  }
 },
 "nbformat": 4,
 "nbformat_minor": 2
}
