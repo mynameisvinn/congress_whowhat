{
 "cells": [
  {
   "cell_type": "code",
   "execution_count": 1,
   "metadata": {},
   "outputs": [],
   "source": [
    "import dash\n",
    "import dash_core_components as dcc\n",
    "import dash_html_components as html"
   ]
  },
  {
   "cell_type": "code",
   "execution_count": 2,
   "metadata": {},
   "outputs": [],
   "source": [
    "app = dash.Dash()"
   ]
  },
  {
   "cell_type": "code",
   "execution_count": 3,
   "metadata": {},
   "outputs": [],
   "source": [
    "app.layout = html.Div(children=[\n",
    "    html.H1('Dash tutorials'),\n",
    "    dcc.Graph(id='example',\n",
    "             figure ={\n",
    "                 'data': [\n",
    "                     {'x':[1,2,3,4,5], 'y':[5,6,7,2,1], 'type':'line', 'name':'boats'},\n",
    "                     {'x':[1,2,3,4,5], 'y':[8,3,2,3,5], 'type':'bar', 'name':'cars'}\n",
    "                     ],\n",
    "                 'layout': {\n",
    "                     'title':'Basic Dash Example'\n",
    "                     }\n",
    "             })\n",
    "    ])"
   ]
  },
  {
   "cell_type": "code",
   "execution_count": null,
   "metadata": {},
   "outputs": [
    {
     "name": "stderr",
     "output_type": "stream",
     "text": [
      "127.0.0.1 - - [16/Apr/2018 16:16:34] \"GET / HTTP/1.1\" 200 -\n",
      "127.0.0.1 - - [16/Apr/2018 16:16:37] \"GET /_dash-layout HTTP/1.1\" 200 -\n",
      "127.0.0.1 - - [16/Apr/2018 16:16:37] \"GET /_dash-dependencies HTTP/1.1\" 200 -\n",
      "127.0.0.1 - - [16/Apr/2018 16:16:37] \"GET /favicon.ico HTTP/1.1\" 200 -\n"
     ]
    }
   ],
   "source": [
    "if __name__ == '__main__':\n",
    "    app.run_server()"
   ]
  },
  {
   "cell_type": "code",
   "execution_count": null,
   "metadata": {},
   "outputs": [],
   "source": []
  }
 ],
 "metadata": {
  "kernelspec": {
   "display_name": "Python 3",
   "language": "python",
   "name": "python3"
  },
  "language_info": {
   "codemirror_mode": {
    "name": "ipython",
    "version": 3
   },
   "file_extension": ".py",
   "mimetype": "text/x-python",
   "name": "python",
   "nbconvert_exporter": "python",
   "pygments_lexer": "ipython3",
   "version": "3.6.4"
  }
 },
 "nbformat": 4,
 "nbformat_minor": 2
}
