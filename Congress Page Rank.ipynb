{
 "cells": [
  {
   "cell_type": "markdown",
   "metadata": {},
   "source": [
    "# Congressional Votes\n",
    "- Pull Voting data by House Rep\n",
    "- Join with Bill data on Bill ID\n",
    "- Understand relationship between Bill sponsorship with party lines, ..."
   ]
  },
  {
   "cell_type": "code",
   "execution_count": 2,
   "metadata": {},
   "outputs": [],
   "source": [
    "from urllib.request import urlopen\n",
    "import bs4\n",
    "import requests\n",
    "from lxml import html\n",
    "from lxml.cssselect import CSSSelector\n",
    "import pandas as pd\n",
    "import numpy as np\n",
    "import seaborn as sns\n",
    "import matplotlib.pyplot as plt"
   ]
  },
  {
   "cell_type": "markdown",
   "metadata": {},
   "source": [
    "## House Bill Data\n",
    "- Identify bill_action range of values\n",
    "- "
   ]
  },
  {
   "cell_type": "code",
   "execution_count": 103,
   "metadata": {},
   "outputs": [],
   "source": [
    "xml_range = range(1,5)\n",
    "bill_rollnum = []\n",
    "bill_chamber = []\n",
    "bill_action = []\n",
    "bill_date = []\n",
    "bill_voteurl = []"
   ]
  },
  {
   "cell_type": "code",
   "execution_count": 104,
   "metadata": {},
   "outputs": [],
   "source": [
    "for i in xml_range:\n",
    "    bill_url = 'https://www.govinfo.gov/bulkdata/BILLSTATUS/115/hr/BILLSTATUS-115hr' + str(i) + '.xml'\n",
    "    bill_source = requests.get(bill_url)\n",
    "    bill_ntree = html.document_fromstring(bill_source.content)\n",
    "    \n",
    "    bill_rollnum_text = bill_ntree.xpath('//recordedvote[descendant::chamber/text()=\"House\"]/rollnumber/text()')\n",
    "    bill_rollnum.append(bill_rollnum_text)\n",
    "    bill_chamber_text = bill_ntree.xpath('//recordedvote/chamber[text()=\"House\"]/text()')\n",
    "    bill_chamber.append(bill_chamber_text)\n",
    "    bill_action_text = bill_ntree.xpath('//recordedvote[descendant::chamber/text()=\"House\"]/fullactionname/text()')\n",
    "    bill_action.append(bill_action_text)\n",
    "    bill_date_text = bill_ntree.xpath('//recordedvote[descendant::chamber/text()=\"House\"]/date/text()')\n",
    "    bill_date.append(bill_date_text)\n",
    "    bill_voteurl_text = bill_ntree.xpath('//recordedvote[descendant::chamber/text()=\"House\"]/url/text()')\n",
    "    bill_voteurl.append(bill_voteurl_text)"
   ]
  },
  {
   "cell_type": "code",
   "execution_count": 105,
   "metadata": {},
   "outputs": [],
   "source": [
    "bill_rollnumf = [val for sublist in bill_rollnum for val in sublist]\n",
    "bill_chamberf = [val for sublist in bill_chamber for val in sublist]\n",
    "bill_actionf = [val for sublist in bill_action for val in sublist]\n",
    "bill_datef = [val for sublist in bill_date for val in sublist]\n",
    "bill_voteurlf = [val for sublist in bill_voteurl for val in sublist]"
   ]
  },
  {
   "cell_type": "code",
   "execution_count": 107,
   "metadata": {},
   "outputs": [
    {
     "data": {
      "text/plain": [
       "['http://clerk.house.gov/evs/2017/roll699.xml',\n",
       " 'http://clerk.house.gov/evs/2017/roll692.xml',\n",
       " 'http://clerk.house.gov/evs/2017/roll691.xml',\n",
       " 'http://clerk.house.gov/evs/2017/roll654.xml',\n",
       " 'http://clerk.house.gov/evs/2017/roll653.xml',\n",
       " 'http://clerk.house.gov/evs/2017/roll637.xml',\n",
       " 'http://clerk.house.gov/evs/2018/roll165.xml',\n",
       " 'http://clerk.house.gov/evs/2018/roll164.xml']"
      ]
     },
     "execution_count": 107,
     "metadata": {},
     "output_type": "execute_result"
    }
   ],
   "source": [
    "bill_voteurlf"
   ]
  },
  {
   "cell_type": "code",
   "execution_count": 123,
   "metadata": {},
   "outputs": [],
   "source": [
    "votingdf = pd.DataFrame({'bill_rollnum':bill_rollnumf, 'bill_chamber':bill_chamberf, 'bill_action':bill_actionf, \n",
    "                         'bill_date':bill_datef, 'bill_voteurl':bill_voteurlf})"
   ]
  },
  {
   "cell_type": "code",
   "execution_count": 124,
   "metadata": {},
   "outputs": [],
   "source": [
    "col_seq = ['bill_date','bill_rollnum','bill_chamber','bill_action','bill_voteurl']\n",
    "votingdf = votingdf.reindex(columns=col_seq)"
   ]
  },
  {
   "cell_type": "code",
   "execution_count": 121,
   "metadata": {},
   "outputs": [
    {
     "data": {
      "text/plain": [
       "['bill_date', 'bill_rollnum', 'bill_chamber', 'bill_action', 'bill_voteurl']"
      ]
     },
     "execution_count": 121,
     "metadata": {},
     "output_type": "execute_result"
    }
   ],
   "source": [
    "votingdf = ['bill_date','bill_rollnum','bill_chamber','bill_action','bill_voteurl']\n",
    "votingdf"
   ]
  },
  {
   "cell_type": "markdown",
   "metadata": {},
   "source": [
    "# House Vote Data - By Rep"
   ]
  },
  {
   "cell_type": "code",
   "execution_count": 149,
   "metadata": {},
   "outputs": [],
   "source": [
    "voteurl_list = votingdf.bill_voteurl.tolist()\n",
    "vote_legisnum = []\n",
    "vote_nameid = []\n",
    "vote_rollnum = []\n",
    "vote_record = []"
   ]
  },
  {
   "cell_type": "code",
   "execution_count": 129,
   "metadata": {},
   "outputs": [
    {
     "data": {
      "text/plain": [
       "['http://clerk.house.gov/evs/2017/roll699.xml',\n",
       " 'http://clerk.house.gov/evs/2017/roll692.xml',\n",
       " 'http://clerk.house.gov/evs/2017/roll691.xml',\n",
       " 'http://clerk.house.gov/evs/2017/roll654.xml',\n",
       " 'http://clerk.house.gov/evs/2017/roll653.xml',\n",
       " 'http://clerk.house.gov/evs/2017/roll637.xml',\n",
       " 'http://clerk.house.gov/evs/2018/roll165.xml',\n",
       " 'http://clerk.house.gov/evs/2018/roll164.xml']"
      ]
     },
     "execution_count": 129,
     "metadata": {},
     "output_type": "execute_result"
    }
   ],
   "source": [
    "voteurl_list"
   ]
  },
  {
   "cell_type": "code",
   "execution_count": 151,
   "metadata": {},
   "outputs": [],
   "source": [
    "for i in range(1,len(voteurl_list)):\n",
    "    vote_url = '{}'.format(voteurl_list[i])\n",
    "    vote_source = requests.get(vote_url)\n",
    "    vote_ntree = html.document_fromstring(vote_source.content)\n",
    "    \n",
    "    vote_legisnum_text = vote_ntree.xpath('//legis-num/text()')\n",
    "    vote_legisnum.append(vote_legisnum_text)\n",
    "    vote_rollnum_text = vote_ntree.xpath('//rollcall-num/text()')\n",
    "    vote_rollnum.append(vote_rollnum_text)\n",
    "    vote_nameid_text = vote_ntree.xpath('//recorded-vote/legislator/@name-id')\n",
    "    vote_nameid.append(vote_nameid_text)\n",
    "    vote_record_text = vote_ntree.xpath('//recorded-vote/vote/text()')\n",
    "    vote_record.append(vote_record_text)"
   ]
  },
  {
   "cell_type": "code",
   "execution_count": 152,
   "metadata": {},
   "outputs": [],
   "source": [
    "votedf = pd.DataFrame({'vote_legisnum':vote_legisnum, 'vote_rollnum':vote_rollnum, \n",
    "                       'vote_nameid':vote_nameid, 'vote_record':vote_record})"
   ]
  },
  {
   "cell_type": "code",
   "execution_count": 154,
   "metadata": {},
   "outputs": [],
   "source": [
    "col_seq = ['vote_legisnum','vote_rollnum','vote_nameid','vote_record']\n",
    "votedf = votedf.reindex(columns=col_seq)"
   ]
  },
  {
   "cell_type": "code",
   "execution_count": 155,
   "metadata": {},
   "outputs": [
    {
     "data": {
      "text/html": [
       "<div>\n",
       "<style scoped>\n",
       "    .dataframe tbody tr th:only-of-type {\n",
       "        vertical-align: middle;\n",
       "    }\n",
       "\n",
       "    .dataframe tbody tr th {\n",
       "        vertical-align: top;\n",
       "    }\n",
       "\n",
       "    .dataframe thead th {\n",
       "        text-align: right;\n",
       "    }\n",
       "</style>\n",
       "<table border=\"1\" class=\"dataframe\">\n",
       "  <thead>\n",
       "    <tr style=\"text-align: right;\">\n",
       "      <th></th>\n",
       "      <th>vote_legisnum</th>\n",
       "      <th>vote_rollnum</th>\n",
       "      <th>vote_nameid</th>\n",
       "      <th>vote_record</th>\n",
       "    </tr>\n",
       "  </thead>\n",
       "  <tbody>\n",
       "    <tr>\n",
       "      <th>0</th>\n",
       "      <td>[H R 1]</td>\n",
       "      <td>[692]</td>\n",
       "      <td>[A000374, A000370, A000055, A000371, A000372, ...</td>\n",
       "      <td>[Yea, Nay, Yea, Nay, Yea, Yea, Yea, Yea, Yea, ...</td>\n",
       "    </tr>\n",
       "    <tr>\n",
       "      <th>1</th>\n",
       "      <td>[H R 1]</td>\n",
       "      <td>[691]</td>\n",
       "      <td>[A000374, A000370, A000055, A000371, A000372, ...</td>\n",
       "      <td>[Nay, Yea, Nay, Yea, Nay, Nay, Nay, Nay, Nay, ...</td>\n",
       "    </tr>\n",
       "    <tr>\n",
       "      <th>2</th>\n",
       "      <td>[H R 1]</td>\n",
       "      <td>[654]</td>\n",
       "      <td>[A000374, A000370, A000055, A000371, A000372, ...</td>\n",
       "      <td>[Nay, Yea, Nay, Yea, Nay, Nay, Nay, Nay, Nay, ...</td>\n",
       "    </tr>\n",
       "    <tr>\n",
       "      <th>3</th>\n",
       "      <td>[H R 1]</td>\n",
       "      <td>[653]</td>\n",
       "      <td>[A000374, A000370, A000055, A000371, A000372, ...</td>\n",
       "      <td>[Yea, Nay, Yea, Nay, Yea, Nay, Yea, Yea, Yea, ...</td>\n",
       "    </tr>\n",
       "    <tr>\n",
       "      <th>4</th>\n",
       "      <td>[H R 1]</td>\n",
       "      <td>[637]</td>\n",
       "      <td>[A000374, A000370, A000055, A000371, A000372, ...</td>\n",
       "      <td>[Yea, Nay, Yea, Nay, Yea, Yea, Yea, Yea, Yea, ...</td>\n",
       "    </tr>\n",
       "    <tr>\n",
       "      <th>5</th>\n",
       "      <td>[H R 4]</td>\n",
       "      <td>[165]</td>\n",
       "      <td>[A000374, A000370, A000055, A000371, A000372, ...</td>\n",
       "      <td>[Yea, Yea, Yea, Yea, Yea, Nay, Yea, Yea, Yea, ...</td>\n",
       "    </tr>\n",
       "    <tr>\n",
       "      <th>6</th>\n",
       "      <td>[H R 4]</td>\n",
       "      <td>[164]</td>\n",
       "      <td>[A000374, A000370, A000055, A000371, A000372, ...</td>\n",
       "      <td>[No, Aye, No, Aye, No, No, No, No, No, No, No,...</td>\n",
       "    </tr>\n",
       "  </tbody>\n",
       "</table>\n",
       "</div>"
      ],
      "text/plain": [
       "  vote_legisnum vote_rollnum  \\\n",
       "0       [H R 1]        [692]   \n",
       "1       [H R 1]        [691]   \n",
       "2       [H R 1]        [654]   \n",
       "3       [H R 1]        [653]   \n",
       "4       [H R 1]        [637]   \n",
       "5       [H R 4]        [165]   \n",
       "6       [H R 4]        [164]   \n",
       "\n",
       "                                         vote_nameid  \\\n",
       "0  [A000374, A000370, A000055, A000371, A000372, ...   \n",
       "1  [A000374, A000370, A000055, A000371, A000372, ...   \n",
       "2  [A000374, A000370, A000055, A000371, A000372, ...   \n",
       "3  [A000374, A000370, A000055, A000371, A000372, ...   \n",
       "4  [A000374, A000370, A000055, A000371, A000372, ...   \n",
       "5  [A000374, A000370, A000055, A000371, A000372, ...   \n",
       "6  [A000374, A000370, A000055, A000371, A000372, ...   \n",
       "\n",
       "                                         vote_record  \n",
       "0  [Yea, Nay, Yea, Nay, Yea, Yea, Yea, Yea, Yea, ...  \n",
       "1  [Nay, Yea, Nay, Yea, Nay, Nay, Nay, Nay, Nay, ...  \n",
       "2  [Nay, Yea, Nay, Yea, Nay, Nay, Nay, Nay, Nay, ...  \n",
       "3  [Yea, Nay, Yea, Nay, Yea, Nay, Yea, Yea, Yea, ...  \n",
       "4  [Yea, Nay, Yea, Nay, Yea, Yea, Yea, Yea, Yea, ...  \n",
       "5  [Yea, Yea, Yea, Yea, Yea, Nay, Yea, Yea, Yea, ...  \n",
       "6  [No, Aye, No, Aye, No, No, No, No, No, No, No,...  "
      ]
     },
     "execution_count": 155,
     "metadata": {},
     "output_type": "execute_result"
    }
   ],
   "source": [
    "votedf"
   ]
  },
  {
   "cell_type": "code",
   "execution_count": 169,
   "metadata": {},
   "outputs": [],
   "source": [
    "votedf_flat = pd.melt(votedf, id_vars=['vote_nameid','vote_record'], \n",
    "                        value_vars=['vote_legisnum','vote_rollnum'])\n"
   ]
  },
  {
   "cell_type": "code",
   "execution_count": 180,
   "metadata": {},
   "outputs": [],
   "source": [
    "def extend_iloc(votedf):\n",
    "    cols_to_flatten = [colname for colname in votedf.columns if isinstance(votedf.iloc[0][colname], list)]\n",
    "    # Row numbers to repeat \n",
    "    lens = votedf[cols_to_flatten[0]].apply(len)\n",
    "    vals = range(votedf.shape[0])\n",
    "    ilocations = np.repeat(vals, lens)\n",
    "    # Replicate rows and add flattened column of lists\n",
    "    with_idxs = [(i, c) for (i, c) in enumerate(votedf.columns) if c not in cols_to_flatten]\n",
    "    col_idxs = list(zip(*with_idxs)[0])\n",
    "    new_votedf = votedf.iloc[ilocations, col_idxs].copy()\n",
    "\n",
    "    # Flatten columns of lists\n",
    "    for col_target in cols_to_flatten:\n",
    "        col_flat = [item for sublist in votedf[col_target] for item in sublist]\n",
    "        new_votedf[col_target] = col_flat\n",
    "\n",
    "    return new_votedf"
   ]
  },
  {
   "cell_type": "code",
   "execution_count": 188,
   "metadata": {},
   "outputs": [
    {
     "data": {
      "text/plain": [
       "vote_legisnum                                              [H R 1]\n",
       "vote_rollnum                                                 [692]\n",
       "vote_nameid      [A000374, A000370, A000055, A000371, A000372, ...\n",
       "vote_record      [Yea, Nay, Yea, Nay, Yea, Yea, Yea, Yea, Yea, ...\n",
       "Name: 0, dtype: object"
      ]
     },
     "execution_count": 188,
     "metadata": {},
     "output_type": "execute_result"
    }
   ],
   "source": [
    "votedf.iloc[0]"
   ]
  },
  {
   "cell_type": "code",
   "execution_count": 191,
   "metadata": {},
   "outputs": [
    {
     "ename": "NameError",
     "evalue": "name 'vals' is not defined",
     "output_type": "error",
     "traceback": [
      "\u001b[0;31m---------------------------------------------------------------------------\u001b[0m",
      "\u001b[0;31mNameError\u001b[0m                                 Traceback (most recent call last)",
      "\u001b[0;32m<ipython-input-191-4a08d5349a45>\u001b[0m in \u001b[0;36m<module>\u001b[0;34m()\u001b[0m\n\u001b[0;32m----> 1\u001b[0;31m \u001b[0mnp\u001b[0m\u001b[0;34m.\u001b[0m\u001b[0mrepeat\u001b[0m\u001b[0;34m(\u001b[0m\u001b[0mvals\u001b[0m\u001b[0;34m,\u001b[0m \u001b[0mlens\u001b[0m\u001b[0;34m)\u001b[0m\u001b[0;34m\u001b[0m\u001b[0m\n\u001b[0m",
      "\u001b[0;31mNameError\u001b[0m: name 'vals' is not defined"
     ]
    }
   ],
   "source": [
    "np.repeat(vals, lens)"
   ]
  },
  {
   "cell_type": "code",
   "execution_count": 179,
   "metadata": {},
   "outputs": [
    {
     "ename": "TypeError",
     "evalue": "'zip' object is not subscriptable",
     "output_type": "error",
     "traceback": [
      "\u001b[0;31m---------------------------------------------------------------------------\u001b[0m",
      "\u001b[0;31mTypeError\u001b[0m                                 Traceback (most recent call last)",
      "\u001b[0;32m<ipython-input-179-f7d7c87f4281>\u001b[0m in \u001b[0;36m<module>\u001b[0;34m()\u001b[0m\n\u001b[0;32m----> 1\u001b[0;31m \u001b[0mextend_iloc\u001b[0m\u001b[0;34m(\u001b[0m\u001b[0mvotedf\u001b[0m\u001b[0;34m)\u001b[0m\u001b[0;34m\u001b[0m\u001b[0m\n\u001b[0m",
      "\u001b[0;32m<ipython-input-177-1ee1189b2c36>\u001b[0m in \u001b[0;36mextend_iloc\u001b[0;34m(votedf)\u001b[0m\n\u001b[1;32m      8\u001b[0m     \u001b[0;31m# Replicate rows and add flattened column of lists\u001b[0m\u001b[0;34m\u001b[0m\u001b[0;34m\u001b[0m\u001b[0m\n\u001b[1;32m      9\u001b[0m     \u001b[0mwith_idxs\u001b[0m \u001b[0;34m=\u001b[0m \u001b[0;34m[\u001b[0m\u001b[0;34m(\u001b[0m\u001b[0mi\u001b[0m\u001b[0;34m,\u001b[0m \u001b[0mc\u001b[0m\u001b[0;34m)\u001b[0m \u001b[0;32mfor\u001b[0m \u001b[0;34m(\u001b[0m\u001b[0mi\u001b[0m\u001b[0;34m,\u001b[0m \u001b[0mc\u001b[0m\u001b[0;34m)\u001b[0m \u001b[0;32min\u001b[0m \u001b[0menumerate\u001b[0m\u001b[0;34m(\u001b[0m\u001b[0mvotedf\u001b[0m\u001b[0;34m.\u001b[0m\u001b[0mcolumns\u001b[0m\u001b[0;34m)\u001b[0m \u001b[0;32mif\u001b[0m \u001b[0mc\u001b[0m \u001b[0;32mnot\u001b[0m \u001b[0;32min\u001b[0m \u001b[0mcols_to_flatten\u001b[0m\u001b[0;34m]\u001b[0m\u001b[0;34m\u001b[0m\u001b[0m\n\u001b[0;32m---> 10\u001b[0;31m     \u001b[0mcol_idxs\u001b[0m \u001b[0;34m=\u001b[0m \u001b[0mlist\u001b[0m\u001b[0;34m(\u001b[0m\u001b[0mzip\u001b[0m\u001b[0;34m(\u001b[0m\u001b[0;34m*\u001b[0m\u001b[0mwith_idxs\u001b[0m\u001b[0;34m)\u001b[0m\u001b[0;34m[\u001b[0m\u001b[0;36m0\u001b[0m\u001b[0;34m]\u001b[0m\u001b[0;34m)\u001b[0m\u001b[0;34m\u001b[0m\u001b[0m\n\u001b[0m\u001b[1;32m     11\u001b[0m     \u001b[0mnew_votedf\u001b[0m \u001b[0;34m=\u001b[0m \u001b[0mvotedf\u001b[0m\u001b[0;34m.\u001b[0m\u001b[0miloc\u001b[0m\u001b[0;34m[\u001b[0m\u001b[0milocations\u001b[0m\u001b[0;34m,\u001b[0m \u001b[0mcol_idxs\u001b[0m\u001b[0;34m]\u001b[0m\u001b[0;34m.\u001b[0m\u001b[0mcopy\u001b[0m\u001b[0;34m(\u001b[0m\u001b[0;34m)\u001b[0m\u001b[0;34m\u001b[0m\u001b[0m\n\u001b[1;32m     12\u001b[0m \u001b[0;34m\u001b[0m\u001b[0m\n",
      "\u001b[0;31mTypeError\u001b[0m: 'zip' object is not subscriptable"
     ]
    }
   ],
   "source": [
    "extend_iloc(votedf)"
   ]
  },
  {
   "cell_type": "code",
   "execution_count": 165,
   "metadata": {},
   "outputs": [],
   "source": [
    "matrix = np.array([[1, 2, 3],\n",
    "                   [4, 5, 6],\n",
    "                   [7, 8, 9]])"
   ]
  },
  {
   "cell_type": "code",
   "execution_count": 160,
   "metadata": {},
   "outputs": [
    {
     "data": {
      "text/plain": [
       "numpy.ndarray"
      ]
     },
     "execution_count": 160,
     "metadata": {},
     "output_type": "execute_result"
    }
   ],
   "source": [
    "type(matrix)"
   ]
  },
  {
   "cell_type": "code",
   "execution_count": 166,
   "metadata": {},
   "outputs": [
    {
     "data": {
      "text/plain": [
       "array([1, 2, 3, 4, 5, 6, 7, 8, 9])"
      ]
     },
     "execution_count": 166,
     "metadata": {},
     "output_type": "execute_result"
    }
   ],
   "source": [
    "matrix.flatten()"
   ]
  },
  {
   "cell_type": "code",
   "execution_count": 12,
   "metadata": {},
   "outputs": [
    {
     "data": {
      "text/plain": [
       "['Yea',\n",
       " 'Nay',\n",
       " 'Yea',\n",
       " 'Nay',\n",
       " 'Yea',\n",
       " 'Yea',\n",
       " 'Yea',\n",
       " 'Yea',\n",
       " 'Yea',\n",
       " 'Yea',\n",
       " 'Yea',\n",
       " 'Yea',\n",
       " 'Yea',\n",
       " 'Nay',\n",
       " 'Yea',\n",
       " 'Nay',\n",
       " 'Nay',\n",
       " 'Nay',\n",
       " 'Yea',\n",
       " 'Nay',\n",
       " 'Yea',\n",
       " 'Yea',\n",
       " 'Nay',\n",
       " 'Yea',\n",
       " 'Yea',\n",
       " 'Yea',\n",
       " 'Yea',\n",
       " 'Yea',\n",
       " 'Nay',\n",
       " 'Nay',\n",
       " 'Nay',\n",
       " 'Yea',\n",
       " 'Nay',\n",
       " 'Nay',\n",
       " 'Yea',\n",
       " 'Yea',\n",
       " 'Yea',\n",
       " 'Not Voting',\n",
       " 'Yea',\n",
       " 'Nay',\n",
       " 'Nay',\n",
       " 'Yea',\n",
       " 'Yea',\n",
       " 'Yea',\n",
       " 'Yea',\n",
       " 'Yea',\n",
       " 'Nay',\n",
       " 'Nay',\n",
       " 'Yea',\n",
       " 'Yea',\n",
       " 'Nay',\n",
       " 'Nay',\n",
       " 'Nay',\n",
       " 'Nay',\n",
       " 'Yea',\n",
       " 'Yea',\n",
       " 'Nay',\n",
       " 'Nay',\n",
       " 'Nay',\n",
       " 'Yea',\n",
       " 'Yea',\n",
       " 'Nay',\n",
       " 'Nay',\n",
       " 'Nay',\n",
       " 'Nay',\n",
       " 'Nay',\n",
       " 'Nay',\n",
       " 'Nay',\n",
       " 'Yea',\n",
       " 'Nay',\n",
       " 'Yea',\n",
       " 'Yea',\n",
       " 'Yea',\n",
       " 'Yea',\n",
       " 'Yea',\n",
       " 'Yea',\n",
       " 'Nay',\n",
       " 'Yea',\n",
       " 'Nay',\n",
       " 'Nay',\n",
       " 'Nay',\n",
       " 'Yea',\n",
       " 'Nay',\n",
       " 'Yea',\n",
       " 'Yea',\n",
       " 'Nay',\n",
       " 'Nay',\n",
       " 'Nay',\n",
       " 'Yea',\n",
       " 'Nay',\n",
       " 'Yea',\n",
       " 'Yea',\n",
       " 'Yea',\n",
       " 'Nay',\n",
       " 'Nay',\n",
       " 'Yea',\n",
       " 'Nay',\n",
       " 'Nay',\n",
       " 'Nay',\n",
       " 'Nay',\n",
       " 'Nay',\n",
       " 'Nay',\n",
       " 'Yea',\n",
       " 'Yea',\n",
       " 'Yea',\n",
       " 'Nay',\n",
       " 'Yea',\n",
       " 'Nay',\n",
       " 'Yea',\n",
       " 'Nay',\n",
       " 'Nay',\n",
       " 'Nay',\n",
       " 'Nay',\n",
       " 'Yea',\n",
       " 'Yea',\n",
       " 'Yea',\n",
       " 'Yea',\n",
       " 'Nay',\n",
       " 'Yea',\n",
       " 'Nay',\n",
       " 'Nay',\n",
       " 'Nay',\n",
       " 'Yea',\n",
       " 'Nay',\n",
       " 'Nay',\n",
       " 'Yea',\n",
       " 'Nay',\n",
       " 'Yea',\n",
       " 'Yea',\n",
       " 'Yea',\n",
       " 'Yea',\n",
       " 'Yea',\n",
       " 'Nay',\n",
       " 'Yea',\n",
       " 'Nay',\n",
       " 'Nay',\n",
       " 'Nay',\n",
       " 'Nay',\n",
       " 'Yea',\n",
       " 'Yea',\n",
       " 'Nay',\n",
       " 'Nay',\n",
       " 'Yea',\n",
       " 'Yea',\n",
       " 'Yea',\n",
       " 'Yea',\n",
       " 'Nay',\n",
       " 'Nay',\n",
       " 'Yea',\n",
       " 'Yea',\n",
       " 'Nay',\n",
       " 'Yea',\n",
       " 'Yea',\n",
       " 'Yea',\n",
       " 'Yea',\n",
       " 'Yea',\n",
       " 'Nay',\n",
       " 'Nay',\n",
       " 'Yea',\n",
       " 'Nay',\n",
       " 'Yea',\n",
       " 'Yea',\n",
       " 'Nay',\n",
       " 'Nay',\n",
       " 'Yea',\n",
       " 'Yea',\n",
       " 'Yea',\n",
       " 'Yea',\n",
       " 'Nay',\n",
       " 'Nay',\n",
       " 'Yea',\n",
       " 'Yea',\n",
       " 'Yea',\n",
       " 'Yea',\n",
       " 'Nay',\n",
       " 'Yea',\n",
       " 'Nay',\n",
       " 'Yea',\n",
       " 'Yea',\n",
       " 'Nay',\n",
       " 'Yea',\n",
       " 'Nay',\n",
       " 'Yea',\n",
       " 'Yea',\n",
       " 'Yea',\n",
       " 'Yea',\n",
       " 'Nay',\n",
       " 'Nay',\n",
       " 'Nay',\n",
       " 'Nay',\n",
       " 'Yea',\n",
       " 'Yea',\n",
       " 'Nay',\n",
       " 'Yea',\n",
       " 'Yea',\n",
       " 'Nay',\n",
       " 'Yea',\n",
       " 'Nay',\n",
       " 'Yea',\n",
       " 'Yea',\n",
       " 'Nay',\n",
       " 'Yea',\n",
       " 'Nay',\n",
       " 'Nay',\n",
       " 'Yea',\n",
       " 'Yea',\n",
       " 'Not Voting',\n",
       " 'Nay',\n",
       " 'Nay',\n",
       " 'Nay',\n",
       " 'Nay',\n",
       " 'Nay',\n",
       " 'Yea',\n",
       " 'Nay',\n",
       " 'Yea',\n",
       " 'Yea',\n",
       " 'Nay',\n",
       " 'Nay',\n",
       " 'Yea',\n",
       " 'Yea',\n",
       " 'Yea',\n",
       " 'Yea',\n",
       " 'Yea',\n",
       " 'Nay',\n",
       " 'Nay',\n",
       " 'Nay',\n",
       " 'Nay',\n",
       " 'Yea',\n",
       " 'Nay',\n",
       " 'Nay',\n",
       " 'Nay',\n",
       " 'Nay',\n",
       " 'Nay',\n",
       " 'Yea',\n",
       " 'Nay',\n",
       " 'Nay',\n",
       " 'Nay',\n",
       " 'Nay',\n",
       " 'Nay',\n",
       " 'Yea',\n",
       " 'Yea',\n",
       " 'Yea',\n",
       " 'Nay',\n",
       " 'Nay',\n",
       " 'Yea',\n",
       " 'Yea',\n",
       " 'Nay',\n",
       " 'Nay',\n",
       " 'Nay',\n",
       " 'Yea',\n",
       " 'Nay',\n",
       " 'Nay',\n",
       " 'Yea',\n",
       " 'Yea',\n",
       " 'Yea',\n",
       " 'Yea',\n",
       " 'Yea',\n",
       " 'Nay',\n",
       " 'Yea',\n",
       " 'Yea',\n",
       " 'Yea',\n",
       " 'Nay',\n",
       " 'Nay',\n",
       " 'Nay',\n",
       " 'Yea',\n",
       " 'Yea',\n",
       " 'Yea',\n",
       " 'Nay',\n",
       " 'Yea',\n",
       " 'Yea',\n",
       " 'Yea',\n",
       " 'Nay',\n",
       " 'Nay',\n",
       " 'Yea',\n",
       " 'Yea',\n",
       " 'Yea',\n",
       " 'Yea',\n",
       " 'Nay',\n",
       " 'Nay',\n",
       " 'Yea',\n",
       " 'Nay',\n",
       " 'Nay',\n",
       " 'Not Voting',\n",
       " 'Nay',\n",
       " 'Yea',\n",
       " 'Yea',\n",
       " 'Nay',\n",
       " 'Nay',\n",
       " 'Yea',\n",
       " 'Yea',\n",
       " 'Nay',\n",
       " 'Nay',\n",
       " 'Yea',\n",
       " 'Yea',\n",
       " 'Nay',\n",
       " 'Yea',\n",
       " 'Nay',\n",
       " 'Nay',\n",
       " 'Yea',\n",
       " 'Nay',\n",
       " 'Yea',\n",
       " 'Nay',\n",
       " 'Nay',\n",
       " 'Yea',\n",
       " 'Nay',\n",
       " 'Nay',\n",
       " 'Nay',\n",
       " 'Yea',\n",
       " 'Not Voting',\n",
       " 'Yea',\n",
       " 'Yea',\n",
       " 'Nay',\n",
       " 'Yea',\n",
       " 'Nay',\n",
       " 'Nay',\n",
       " 'Nay',\n",
       " 'Yea',\n",
       " 'Yea',\n",
       " 'Yea',\n",
       " 'Not Voting',\n",
       " 'Nay',\n",
       " 'Yea',\n",
       " 'Nay',\n",
       " 'Yea',\n",
       " 'Yea',\n",
       " 'Yea',\n",
       " 'Yea',\n",
       " 'Nay',\n",
       " 'Yea',\n",
       " 'Yea',\n",
       " 'Yea',\n",
       " 'Yea',\n",
       " 'Nay',\n",
       " 'Yea',\n",
       " 'Yea',\n",
       " 'Yea',\n",
       " 'Yea',\n",
       " 'Nay',\n",
       " 'Yea',\n",
       " 'Nay',\n",
       " 'Nay',\n",
       " 'Nay',\n",
       " 'Yea',\n",
       " 'Yea',\n",
       " 'Nay',\n",
       " 'Yea',\n",
       " 'Nay',\n",
       " 'Yea',\n",
       " 'Nay',\n",
       " 'Yea',\n",
       " 'Nay',\n",
       " 'Nay',\n",
       " 'Nay',\n",
       " 'Nay',\n",
       " 'Yea',\n",
       " 'Nay',\n",
       " 'Yea',\n",
       " 'Nay',\n",
       " 'Yea',\n",
       " 'Nay',\n",
       " 'Yea',\n",
       " 'Nay',\n",
       " 'Nay',\n",
       " 'Nay',\n",
       " 'Yea',\n",
       " 'Yea',\n",
       " 'Yea',\n",
       " 'Nay',\n",
       " 'Nay',\n",
       " 'Nay',\n",
       " 'Yea',\n",
       " 'Yea',\n",
       " 'Nay',\n",
       " 'Not Voting',\n",
       " 'Nay',\n",
       " 'Yea',\n",
       " 'Nay',\n",
       " 'Nay',\n",
       " 'Nay',\n",
       " 'Yea',\n",
       " 'Yea',\n",
       " 'Nay',\n",
       " 'Nay',\n",
       " 'Nay',\n",
       " 'Yea',\n",
       " 'Yea',\n",
       " 'Nay',\n",
       " 'Not Voting',\n",
       " 'Yea',\n",
       " 'Yea',\n",
       " 'Yea',\n",
       " 'Yea',\n",
       " 'Nay',\n",
       " 'Nay',\n",
       " 'Nay',\n",
       " 'Yea',\n",
       " 'Nay',\n",
       " 'Yea',\n",
       " 'Yea',\n",
       " 'Yea',\n",
       " 'Nay',\n",
       " 'Nay',\n",
       " 'Nay',\n",
       " 'Nay',\n",
       " 'Nay',\n",
       " 'Yea',\n",
       " 'Yea',\n",
       " 'Yea',\n",
       " 'Yea',\n",
       " 'Yea',\n",
       " 'Yea',\n",
       " 'Nay',\n",
       " 'Nay',\n",
       " 'Nay',\n",
       " 'Nay',\n",
       " 'Yea',\n",
       " 'Yea',\n",
       " 'Nay',\n",
       " 'Yea',\n",
       " 'Yea',\n",
       " 'Yea',\n",
       " 'Nay',\n",
       " 'Yea',\n",
       " 'Yea',\n",
       " 'Yea',\n",
       " 'Yea',\n",
       " 'Nay',\n",
       " 'Yea',\n",
       " 'Yea',\n",
       " 'Yea',\n",
       " 'Yea',\n",
       " 'Nay']"
      ]
     },
     "execution_count": 12,
     "metadata": {},
     "output_type": "execute_result"
    }
   ],
   "source": [
    "ntree.xpath('//recorded-vote/vote/text()')"
   ]
  },
  {
   "cell_type": "markdown",
   "metadata": {},
   "source": [
    "## House Bios"
   ]
  },
  {
   "cell_type": "code",
   "execution_count": 13,
   "metadata": {},
   "outputs": [
    {
     "ename": "SyntaxError",
     "evalue": "invalid syntax (<ipython-input-13-0714b07055fd>, line 1)",
     "output_type": "error",
     "traceback": [
      "\u001b[0;36m  File \u001b[0;32m\"<ipython-input-13-0714b07055fd>\"\u001b[0;36m, line \u001b[0;32m1\u001b[0m\n\u001b[0;31m    https://xml.house.gov/MemberData/MemberData.xml\u001b[0m\n\u001b[0m           ^\u001b[0m\n\u001b[0;31mSyntaxError\u001b[0m\u001b[0;31m:\u001b[0m invalid syntax\n"
     ]
    }
   ],
   "source": [
    "https://xml.house.gov/MemberData/MemberData.xml"
   ]
  },
  {
   "cell_type": "code",
   "execution_count": 181,
   "metadata": {},
   "outputs": [],
   "source": [
    "party = ntree.xpath('//party/text()')\n",
    "yea = ntree.xpath('//yea-total/text()')\n",
    "nay = ntree.xpath('//nay-total/text()')\n",
    "present = ntree.xpath('//present-total/text()')\n",
    "not_voting = ntree.xpath('//not-voting-total/text()')\n",
    "\n",
    "party = [*party, 'Total']"
   ]
  },
  {
   "cell_type": "code",
   "execution_count": 182,
   "metadata": {},
   "outputs": [],
   "source": [
    "congress = ntree.xpath('//congress/text()')\n",
    "rollnum = ntree.xpath('//rollcall-num/text()')\n",
    "\n",
    "congress = [*congress, *congress, *congress, *congress]\n",
    "rollnum = [*rollnum, *rollnum, *rollnum, *rollnum]"
   ]
  },
  {
   "cell_type": "code",
   "execution_count": 184,
   "metadata": {},
   "outputs": [],
   "source": [
    "votingdf = pd.DataFrame({'congress':congress, 'rollnum':rollnum, 'party':party, 'yea':yea, 'nay':nay, 'present':present, 'not_voting':not_voting})\n",
    "votingdf = votingdf[['congress', 'rollnum', 'party', 'yea', 'nay', 'present', 'not_voting']]"
   ]
  },
  {
   "cell_type": "code",
   "execution_count": 185,
   "metadata": {},
   "outputs": [
    {
     "data": {
      "text/html": [
       "<div>\n",
       "<style scoped>\n",
       "    .dataframe tbody tr th:only-of-type {\n",
       "        vertical-align: middle;\n",
       "    }\n",
       "\n",
       "    .dataframe tbody tr th {\n",
       "        vertical-align: top;\n",
       "    }\n",
       "\n",
       "    .dataframe thead th {\n",
       "        text-align: right;\n",
       "    }\n",
       "</style>\n",
       "<table border=\"1\" class=\"dataframe\">\n",
       "  <thead>\n",
       "    <tr style=\"text-align: right;\">\n",
       "      <th></th>\n",
       "      <th>congress</th>\n",
       "      <th>rollnum</th>\n",
       "      <th>party</th>\n",
       "      <th>yea</th>\n",
       "      <th>nay</th>\n",
       "      <th>present</th>\n",
       "      <th>not_voting</th>\n",
       "    </tr>\n",
       "  </thead>\n",
       "  <tbody>\n",
       "    <tr>\n",
       "      <th>0</th>\n",
       "      <td>115</td>\n",
       "      <td>699</td>\n",
       "      <td>Republican</td>\n",
       "      <td>224</td>\n",
       "      <td>12</td>\n",
       "      <td>0</td>\n",
       "      <td>3</td>\n",
       "    </tr>\n",
       "    <tr>\n",
       "      <th>1</th>\n",
       "      <td>115</td>\n",
       "      <td>699</td>\n",
       "      <td>Democratic</td>\n",
       "      <td>0</td>\n",
       "      <td>189</td>\n",
       "      <td>0</td>\n",
       "      <td>4</td>\n",
       "    </tr>\n",
       "    <tr>\n",
       "      <th>2</th>\n",
       "      <td>115</td>\n",
       "      <td>699</td>\n",
       "      <td>Independent</td>\n",
       "      <td>0</td>\n",
       "      <td>0</td>\n",
       "      <td>0</td>\n",
       "      <td>0</td>\n",
       "    </tr>\n",
       "    <tr>\n",
       "      <th>3</th>\n",
       "      <td>115</td>\n",
       "      <td>699</td>\n",
       "      <td>Total</td>\n",
       "      <td>224</td>\n",
       "      <td>201</td>\n",
       "      <td>0</td>\n",
       "      <td>7</td>\n",
       "    </tr>\n",
       "  </tbody>\n",
       "</table>\n",
       "</div>"
      ],
      "text/plain": [
       "  congress rollnum        party  yea  nay present not_voting\n",
       "0      115     699   Republican  224   12       0          3\n",
       "1      115     699   Democratic    0  189       0          4\n",
       "2      115     699  Independent    0    0       0          0\n",
       "3      115     699        Total  224  201       0          7"
      ]
     },
     "execution_count": 185,
     "metadata": {},
     "output_type": "execute_result"
    }
   ],
   "source": [
    "votingdf"
   ]
  },
  {
   "cell_type": "code",
   "execution_count": 174,
   "metadata": {},
   "outputs": [],
   "source": [
    "votingdf_flat = pd.melt(votingdf, id_vars=['congress','rollnum','party'], \n",
    "                        value_vars=['yea','nay','present','not_voting'], \n",
    "                        var_name='vote_type', value_name='vote_count')"
   ]
  },
  {
   "cell_type": "code",
   "execution_count": null,
   "metadata": {},
   "outputs": [],
   "source": [
    "votingdf_flat"
   ]
  },
  {
   "cell_type": "code",
   "execution_count": 186,
   "metadata": {},
   "outputs": [],
   "source": [
    "votingdf_699 = votingdf"
   ]
  },
  {
   "cell_type": "code",
   "execution_count": 179,
   "metadata": {},
   "outputs": [
    {
     "data": {
      "text/html": [
       "<div>\n",
       "<style scoped>\n",
       "    .dataframe tbody tr th:only-of-type {\n",
       "        vertical-align: middle;\n",
       "    }\n",
       "\n",
       "    .dataframe tbody tr th {\n",
       "        vertical-align: top;\n",
       "    }\n",
       "\n",
       "    .dataframe thead th {\n",
       "        text-align: right;\n",
       "    }\n",
       "</style>\n",
       "<table border=\"1\" class=\"dataframe\">\n",
       "  <thead>\n",
       "    <tr style=\"text-align: right;\">\n",
       "      <th></th>\n",
       "      <th>congress</th>\n",
       "      <th>rollnum</th>\n",
       "      <th>party</th>\n",
       "      <th>yea</th>\n",
       "      <th>nay</th>\n",
       "      <th>present</th>\n",
       "      <th>not_voting</th>\n",
       "    </tr>\n",
       "  </thead>\n",
       "  <tbody>\n",
       "    <tr>\n",
       "      <th>0</th>\n",
       "      <td>115</td>\n",
       "      <td>692</td>\n",
       "      <td>Republican</td>\n",
       "      <td>227</td>\n",
       "      <td>12</td>\n",
       "      <td>0</td>\n",
       "      <td>0</td>\n",
       "    </tr>\n",
       "    <tr>\n",
       "      <th>1</th>\n",
       "      <td>115</td>\n",
       "      <td>692</td>\n",
       "      <td>Democratic</td>\n",
       "      <td>0</td>\n",
       "      <td>191</td>\n",
       "      <td>0</td>\n",
       "      <td>2</td>\n",
       "    </tr>\n",
       "    <tr>\n",
       "      <th>2</th>\n",
       "      <td>115</td>\n",
       "      <td>692</td>\n",
       "      <td>Independent</td>\n",
       "      <td>0</td>\n",
       "      <td>0</td>\n",
       "      <td>0</td>\n",
       "      <td>0</td>\n",
       "    </tr>\n",
       "    <tr>\n",
       "      <th>3</th>\n",
       "      <td>115</td>\n",
       "      <td>692</td>\n",
       "      <td>Total</td>\n",
       "      <td>227</td>\n",
       "      <td>203</td>\n",
       "      <td>0</td>\n",
       "      <td>2</td>\n",
       "    </tr>\n",
       "  </tbody>\n",
       "</table>\n",
       "</div>"
      ],
      "text/plain": [
       "  congress rollnum        party  yea  nay present not_voting\n",
       "0      115     692   Republican  227   12       0          0\n",
       "1      115     692   Democratic    0  191       0          2\n",
       "2      115     692  Independent    0    0       0          0\n",
       "3      115     692        Total  227  203       0          2"
      ]
     },
     "execution_count": 179,
     "metadata": {},
     "output_type": "execute_result"
    }
   ],
   "source": [
    "votingdf_692"
   ]
  },
  {
   "cell_type": "code",
   "execution_count": 187,
   "metadata": {},
   "outputs": [
    {
     "data": {
      "text/html": [
       "<div>\n",
       "<style scoped>\n",
       "    .dataframe tbody tr th:only-of-type {\n",
       "        vertical-align: middle;\n",
       "    }\n",
       "\n",
       "    .dataframe tbody tr th {\n",
       "        vertical-align: top;\n",
       "    }\n",
       "\n",
       "    .dataframe thead th {\n",
       "        text-align: right;\n",
       "    }\n",
       "</style>\n",
       "<table border=\"1\" class=\"dataframe\">\n",
       "  <thead>\n",
       "    <tr style=\"text-align: right;\">\n",
       "      <th></th>\n",
       "      <th>congress</th>\n",
       "      <th>rollnum</th>\n",
       "      <th>party</th>\n",
       "      <th>yea</th>\n",
       "      <th>nay</th>\n",
       "      <th>present</th>\n",
       "      <th>not_voting</th>\n",
       "    </tr>\n",
       "  </thead>\n",
       "  <tbody>\n",
       "    <tr>\n",
       "      <th>0</th>\n",
       "      <td>115</td>\n",
       "      <td>699</td>\n",
       "      <td>Republican</td>\n",
       "      <td>224</td>\n",
       "      <td>12</td>\n",
       "      <td>0</td>\n",
       "      <td>3</td>\n",
       "    </tr>\n",
       "    <tr>\n",
       "      <th>1</th>\n",
       "      <td>115</td>\n",
       "      <td>699</td>\n",
       "      <td>Democratic</td>\n",
       "      <td>0</td>\n",
       "      <td>189</td>\n",
       "      <td>0</td>\n",
       "      <td>4</td>\n",
       "    </tr>\n",
       "    <tr>\n",
       "      <th>2</th>\n",
       "      <td>115</td>\n",
       "      <td>699</td>\n",
       "      <td>Independent</td>\n",
       "      <td>0</td>\n",
       "      <td>0</td>\n",
       "      <td>0</td>\n",
       "      <td>0</td>\n",
       "    </tr>\n",
       "    <tr>\n",
       "      <th>3</th>\n",
       "      <td>115</td>\n",
       "      <td>699</td>\n",
       "      <td>Total</td>\n",
       "      <td>224</td>\n",
       "      <td>201</td>\n",
       "      <td>0</td>\n",
       "      <td>7</td>\n",
       "    </tr>\n",
       "  </tbody>\n",
       "</table>\n",
       "</div>"
      ],
      "text/plain": [
       "  congress rollnum        party  yea  nay present not_voting\n",
       "0      115     699   Republican  224   12       0          3\n",
       "1      115     699   Democratic    0  189       0          4\n",
       "2      115     699  Independent    0    0       0          0\n",
       "3      115     699        Total  224  201       0          7"
      ]
     },
     "execution_count": 187,
     "metadata": {},
     "output_type": "execute_result"
    }
   ],
   "source": [
    "votingdf_699"
   ]
  }
 ],
 "metadata": {
  "kernelspec": {
   "display_name": "Python 3",
   "language": "python",
   "name": "python3"
  },
  "language_info": {
   "codemirror_mode": {
    "name": "ipython",
    "version": 3
   },
   "file_extension": ".py",
   "mimetype": "text/x-python",
   "name": "python",
   "nbconvert_exporter": "python",
   "pygments_lexer": "ipython3",
   "version": "3.6.4"
  }
 },
 "nbformat": 4,
 "nbformat_minor": 2
}
