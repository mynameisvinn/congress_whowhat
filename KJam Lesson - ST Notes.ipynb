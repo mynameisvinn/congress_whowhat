{
 "cells": [
  {
   "cell_type": "markdown",
   "metadata": {},
   "source": [
    "SYSTEM INSTALLS\n",
    "Homebrew - https://docs.brew.sh/Installation\n",
    "- /usr/bin/ruby -e \"$(curl -fsSL https://raw.githubusercontent.com/Homebrew/install/master/install)\"\n",
    "$ brew install wget\n",
    "\n",
    "LXML - $ pip install lxml\n",
    "Selenium - $ python -m pip install -U selenium\n",
    "$ brew install geckodriver\n",
    "\n"
   ]
  },
  {
   "cell_type": "markdown",
   "metadata": {},
   "source": [
    "PYTHON - SCRAPING NOTES\n",
    "\n",
    "- BEAUTIFUL SOUP - \n",
    "findAll('a')\n",
    "find('title')\n",
    "get('href')\n",
    "(element).text\n",
    "\n",
    "findChildren\n",
    "findChild\n",
    "findParent\n",
    "findPreviousSibling\n",
    "findNextSiblings\n",
    "\n",
    "%whos\n",
    "\n",
    "- OTHER BS COMMANDS - \n",
    ".contents\n",
    ".(tag) - vlookup\n",
    ".next_element / .previous_element = iterate the family tree regardless of relationship -- less explicitly, need to abide by Zen of Python\n",
    ".stripped_strings = \n",
    ".find_all(['p','div'])\n",
    "'''\n",
    "\n",
    "- LXML - \n",
    "cssselect('div.content') == find all div elements that have the class attribute \"content\" (GREAT tool for front end devs / CSS experts)\n",
    "find_class('nav') == find all elements with this class or find an elem w/in this element that matches this class\n",
    "text_content() == text w/in this elem and its descendents\n",
    "clean_html() == try to fix errors in the formatting of rhit spage\n",
    "\n",
    "- OTHER LXML FUNCTIONS - \n",
    ".\n",
    "\n",
    "- XPath - \n",
    "/body/p would match all paragraphs in the body tag\n",
    "//p/a would match all links in a paragraph in any child\n",
    "../p would match all paragraphs in the element \n",
    "@ will single out the attribute (/a/@href)\n",
    "* / @* is a wildcard variable that allows you to match any sub-element or any attribute of the element you are parsing \n",
    "text() / comment() / node() match any of those elements within the current element (//p/text() would then match all text of the child paragraphs)\n",
    "\n",
    "%run xpath_intro\n",
    "\n",
    "LMXL and XPath\n",
    "find\n",
    "findall\n",
    "xpath\n",
    "\n",
    "- Selenium Basic Functions - \n",
    "get('url)\n",
    "elem.click()\n",
    "Element properties: location, parent, tag_name, text\n",
    "find_element(s) ...\n",
    "    by_link_text('foo'): find the link where the text is foo\n",
    "    by_partial_link_text: only a part of the text needs to be identified (think 'contains')\n",
    "    by_css_selector\n",
    "    by_tag_name\n",
    "    by_xpath\n",
    "    by_class_name\n",
    "send_keys\n",
    "    for any text field \n",
    "    elem.send_keys('myPassword')\n",
    "    elem.send_keys('heres more and then I'm entering', Keys.Return)\n",
    "    selenium-python.org\n",
    "    elem.clear()\n",
    "browser.execute_script('window.close()'): execute any javascript on a loaded page\n",
    "browser.save_screenshot('foo.png'): take a screenshot of a page\n",
    "browser.switch_to_alert(): handle pop ups\n",
    "browser.forward() / browser.back(): navigation\n",
    "\n"
   ]
  },
  {
   "cell_type": "code",
   "execution_count": 2,
   "metadata": {},
   "outputs": [],
   "source": [
    "from bs4 import BeautifulSoup"
   ]
  },
  {
   "cell_type": "code",
   "execution_count": 3,
   "metadata": {
    "scrolled": true
   },
   "outputs": [
    {
     "name": "stderr",
     "output_type": "stream",
     "text": [
      "/anaconda3/lib/python3.6/site-packages/bs4/__init__.py:181: UserWarning: No parser was explicitly specified, so I'm using the best available HTML parser for this system (\"lxml\"). This usually isn't a problem, but if you run this code on another system, or in a different virtual environment, it may use a different parser and behave differently.\n",
      "\n",
      "The code that caused this warning is on line 193 of the file /anaconda3/lib/python3.6/runpy.py. To get rid of this warning, change code that looks like this:\n",
      "\n",
      " BeautifulSoup(YOUR_MARKUP})\n",
      "\n",
      "to this:\n",
      "\n",
      " BeautifulSoup(YOUR_MARKUP, \"lxml\")\n",
      "\n",
      "  markup_type=markup_type))\n"
     ]
    }
   ],
   "source": [
    "# Let's grab the simple page source.\n",
    "simple_page = open('data/simple.html').read()\n",
    "\n",
    "# Let's open it with BS so we can iterate over the family tree.\n",
    "simple_soup = BeautifulSoup(simple_page)"
   ]
  },
  {
   "cell_type": "code",
   "execution_count": 200,
   "metadata": {},
   "outputs": [
    {
     "name": "stderr",
     "output_type": "stream",
     "text": [
      "/anaconda3/lib/python3.6/site-packages/bs4/__init__.py:181: UserWarning: No parser was explicitly specified, so I'm using the best available HTML parser for this system (\"lxml\"). This usually isn't a problem, but if you run this code on another system, or in a different virtual environment, it may use a different parser and behave differently.\n",
      "\n",
      "The code that caused this warning is on line 193 of the file /anaconda3/lib/python3.6/runpy.py. To get rid of this warning, change code that looks like this:\n",
      "\n",
      " BeautifulSoup(YOUR_MARKUP})\n",
      "\n",
      "to this:\n",
      "\n",
      " BeautifulSoup(YOUR_MARKUP, \"lxml\")\n",
      "\n",
      "  markup_type=markup_type))\n"
     ]
    }
   ],
   "source": [
    "simple_tree = BeautifulSoup(simple_page)"
   ]
  },
  {
   "cell_type": "code",
   "execution_count": 4,
   "metadata": {},
   "outputs": [],
   "source": [
    "# Let's highlight our current element and return it so we can play around!\n",
    "current_elem = simple_soup.findAll('div', {'class': 'navblock'})[1]\n"
   ]
  },
  {
   "cell_type": "code",
   "execution_count": 5,
   "metadata": {},
   "outputs": [
    {
     "data": {
      "text/plain": [
       "<div class=\"navblock\">\n",
       "<ul>\n",
       "<li>Boo</li>\n",
       "<li>Far</li>\n",
       "</ul>\n",
       "</div>"
      ]
     },
     "execution_count": 5,
     "metadata": {},
     "output_type": "execute_result"
    }
   ],
   "source": [
    "current_elem"
   ]
  },
  {
   "cell_type": "code",
   "execution_count": 15,
   "metadata": {},
   "outputs": [
    {
     "data": {
      "text/plain": [
       "[<div id=\"header\">\n",
       " Header\n",
       " </div>]"
      ]
     },
     "execution_count": 15,
     "metadata": {},
     "output_type": "execute_result"
    }
   ],
   "source": [
    "current_elem.findParent().findParent().findAll('div', {'id': 'header'})"
   ]
  },
  {
   "cell_type": "code",
   "execution_count": 13,
   "metadata": {},
   "outputs": [
    {
     "data": {
      "text/plain": [
       "<div class=\"navblock\">\n",
       "<ul>\n",
       "<li>Foo</li>\n",
       "<li>Bar</li>\n",
       "</ul>\n",
       "</div>"
      ]
     },
     "execution_count": 13,
     "metadata": {},
     "output_type": "execute_result"
    }
   ],
   "source": [
    "current_elem.findPreviousSibling()"
   ]
  },
  {
   "cell_type": "code",
   "execution_count": 16,
   "metadata": {},
   "outputs": [
    {
     "data": {
      "text/plain": [
       "<div id=\"header\">\n",
       "Header\n",
       "</div>"
      ]
     },
     "execution_count": 16,
     "metadata": {},
     "output_type": "execute_result"
    }
   ],
   "source": [
    "current_elem.findParent().findPreviousSibling()"
   ]
  },
  {
   "cell_type": "code",
   "execution_count": 17,
   "metadata": {},
   "outputs": [
    {
     "data": {
      "text/plain": [
       "<div class=\"contentblock\">\n",
       "<p>Lorem ipsum dolor sit amet, ...</p>\n",
       "</div>"
      ]
     },
     "execution_count": 17,
     "metadata": {},
     "output_type": "execute_result"
    }
   ],
   "source": [
    "current_elem.findParent().findNextSibling().findChild()"
   ]
  },
  {
   "cell_type": "code",
   "execution_count": 18,
   "metadata": {},
   "outputs": [
    {
     "data": {
      "text/plain": [
       "<style>\n",
       "body {\n",
       "background: #444444;\n",
       "font-family: verdana, arial, sans-serif;\n",
       "color: #444444;\n",
       "font-size: 12px;\n",
       "margin: 0px;\n",
       "}\n",
       "\n",
       "div#container {\n",
       "width: 800px;\n",
       "margin: 0px auto;\n",
       "background: #FFFFFF;\n",
       "padding: 0px;\n",
       "}\n",
       "\n",
       "div#content {\n",
       "width: 800px;\n",
       "padding-top: 100px;\n",
       "background: #FFFFFF;\n",
       "}\n",
       "\n",
       "div#header {\n",
       "width: 800px;\n",
       "height: 100px;\n",
       "background: #888888;\n",
       "position: absolute;\n",
       "top: 0px;\n",
       "}\n",
       "\n",
       "div#nav {\n",
       "width: 200px;\n",
       "float: left;\n",
       "background: #FFFFFF;\n",
       "}\n",
       "\n",
       "div#maincontent {\n",
       "width: 600px;\n",
       "float: right;\n",
       "background: #DDDDDD;\n",
       "}\n",
       "\n",
       "div.navblock {\n",
       "width: 180px;\n",
       "margin: 5px auto;\n",
       "border: 1px solid #DDDDDD;\n",
       "}\n",
       "\n",
       "div.contentblock {\n",
       "width: 580px;\n",
       "margin: 5px auto;\n",
       "border: 1px solid #FFFFFF;\n",
       "}\n",
       "\n",
       ".clearfix:after {content:\".\"; display:block; height:0; clear:both; visibility:hidden;}\n",
       ".clearfix {display:inline-block;}\n",
       "/* Hide from IE Mac \\*/\n",
       ".clearfix {display:block;}\n",
       "</style>"
      ]
     },
     "execution_count": 18,
     "metadata": {},
     "output_type": "execute_result"
    }
   ],
   "source": [
    "current_elem.findParent('html').find('style')"
   ]
  },
  {
   "cell_type": "code",
   "execution_count": 37,
   "metadata": {},
   "outputs": [
    {
     "data": {
      "text/plain": [
       "'\\nHeader\\n'"
      ]
     },
     "execution_count": 37,
     "metadata": {},
     "output_type": "execute_result"
    }
   ],
   "source": [
    "current_elem.findParent().findPreviousSibling().text"
   ]
  },
  {
   "cell_type": "code",
   "execution_count": null,
   "metadata": {},
   "outputs": [],
   "source": [
    "What are the two different ways to get the text of the title on the page\n",
    "In one line of code, can you print all the text in the main body of the page\n"
   ]
  },
  {
   "cell_type": "code",
   "execution_count": 21,
   "metadata": {},
   "outputs": [
    {
     "data": {
      "text/plain": [
       "['test']"
      ]
     },
     "execution_count": 21,
     "metadata": {},
     "output_type": "execute_result"
    }
   ],
   "source": [
    "simple_soup.find('title').contents"
   ]
  },
  {
   "cell_type": "code",
   "execution_count": 34,
   "metadata": {},
   "outputs": [],
   "source": [
    "[s for s in simple_soup.find('p').stripped_strings]"
   ]
  },
  {
   "cell_type": "code",
   "execution_count": 39,
   "metadata": {},
   "outputs": [
    {
     "data": {
      "text/plain": [
       "'\\n\\n\\n\\nHeader\\n\\n\\n\\n\\nFoo\\nBar\\n\\n\\n\\n\\nBoo\\nFar\\n\\n\\n\\n\\n\\nLorem ipsum dolor sit amet, ...\\n\\n\\nNunc cursus, justo eget elementum dictum, ... \\n\\n\\n\\n\\n'"
      ]
     },
     "execution_count": 39,
     "metadata": {},
     "output_type": "execute_result"
    }
   ],
   "source": [
    "simple_soup.find('body').text"
   ]
  },
  {
   "cell_type": "code",
   "execution_count": 42,
   "metadata": {},
   "outputs": [
    {
     "data": {
      "text/plain": [
       "9"
      ]
     },
     "execution_count": 42,
     "metadata": {},
     "output_type": "execute_result"
    }
   ],
   "source": [
    "len(simple_soup.find_all('div'))"
   ]
  },
  {
   "cell_type": "code",
   "execution_count": 49,
   "metadata": {},
   "outputs": [
    {
     "name": "stdout",
     "output_type": "stream",
     "text": [
      "Foo\n",
      "Bar\n",
      "Boo\n",
      "Far\n"
     ]
    }
   ],
   "source": [
    "for li in simple_soup.find_all('li'):\n",
    "    print(li.text)"
   ]
  },
  {
   "cell_type": "code",
   "execution_count": 53,
   "metadata": {},
   "outputs": [
    {
     "data": {
      "text/plain": [
       "[<li>Foo</li>, <li>Bar</li>, <li>Boo</li>, <li>Far</li>]"
      ]
     },
     "execution_count": 53,
     "metadata": {},
     "output_type": "execute_result"
    }
   ],
   "source": [
    "simple_soup.find_all('li')"
   ]
  },
  {
   "cell_type": "markdown",
   "metadata": {},
   "source": [
    "CONCEPTUAL Q'S:\n",
    "- Difference between 'find' vs. 'find_all'; need 'find' for for-loop "
   ]
  },
  {
   "cell_type": "code",
   "execution_count": 58,
   "metadata": {},
   "outputs": [],
   "source": [
    "from lxml import html\n",
    "import urllib.request"
   ]
  },
  {
   "cell_type": "code",
   "execution_count": 59,
   "metadata": {},
   "outputs": [],
   "source": [
    "source = urllib.request.urlopen('http://google.com').read()"
   ]
  },
  {
   "cell_type": "code",
   "execution_count": 61,
   "metadata": {},
   "outputs": [],
   "source": [
    "tree = html.document_fromstring(source)"
   ]
  },
  {
   "cell_type": "code",
   "execution_count": 62,
   "metadata": {},
   "outputs": [],
   "source": [
    "for t in tree.findAll('p',{'class': 'calendar_EventTitle'}):\n",
    "    text = t.text\n",
    "    for s in t.findNextSiblings():\n",
    "        text += '\\n' + s.text\n",
    "    found_happy_hours.append(text)"
   ]
  },
  {
   "cell_type": "code",
   "execution_count": null,
   "metadata": {},
   "outputs": [],
   "source": [
    "def get_all_tags(url,tag):\n",
    "    source = get_site_html(url)\n",
    "    tree = html.document_fromstring(source)\n",
    "    return tree.cssselect(tag)"
   ]
  },
  {
   "cell_type": "code",
   "execution_count": 63,
   "metadata": {},
   "outputs": [],
   "source": [
    "found_happy_hours = []"
   ]
  },
  {
   "cell_type": "code",
   "execution_count": null,
   "metadata": {},
   "outputs": [],
   "source": [
    "for t in tables:\n",
    "    if t.cssselect('p.calendar_EventTitle'):\n",
    "        found_happy_hours.append(t.text_content())"
   ]
  },
  {
   "cell_type": "code",
   "execution_count": 66,
   "metadata": {},
   "outputs": [
    {
     "data": {
      "text/plain": [
       "[(<Element style at 0x106adef98>, None, '/images/nav_logo229.png', 1054),\n",
       " (<Element link at 0x106adea48>,\n",
       "  'href',\n",
       "  '/images/branding/product/ico/googleg_lodp.ico',\n",
       "  0),\n",
       " (<Element a at 0x106ade9f8>,\n",
       "  'href',\n",
       "  'http://www.google.com/imghp?hl=en&tab=wi',\n",
       "  0),\n",
       " (<Element a at 0x106ade048>,\n",
       "  'href',\n",
       "  'http://maps.google.com/maps?hl=en&tab=wl',\n",
       "  0),\n",
       " (<Element a at 0x106ade0e8>,\n",
       "  'href',\n",
       "  'https://play.google.com/?hl=en&tab=w8',\n",
       "  0),\n",
       " (<Element a at 0x106ade138>,\n",
       "  'href',\n",
       "  'http://www.youtube.com/?gl=US&tab=w1',\n",
       "  0),\n",
       " (<Element a at 0x106ade1d8>,\n",
       "  'href',\n",
       "  'http://news.google.com/nwshp?hl=en&tab=wn',\n",
       "  0),\n",
       " (<Element a at 0x106ade278>,\n",
       "  'href',\n",
       "  'https://mail.google.com/mail/?tab=wm',\n",
       "  0),\n",
       " (<Element a at 0x106ade318>, 'href', 'https://drive.google.com/?tab=wo', 0),\n",
       " (<Element a at 0x106ade3b8>,\n",
       "  'href',\n",
       "  'https://www.google.com/intl/en/options/',\n",
       "  0),\n",
       " (<Element a at 0x106ade458>,\n",
       "  'href',\n",
       "  'http://www.google.com/history/optout?hl=en',\n",
       "  0),\n",
       " (<Element a at 0x106ade4f8>, 'href', '/preferences?hl=en', 0),\n",
       " (<Element a at 0x106ade598>,\n",
       "  'href',\n",
       "  'https://accounts.google.com/ServiceLogin?hl=en&passive=true&continue=http://www.google.com/',\n",
       "  0),\n",
       " (<Element img at 0x106ade728>,\n",
       "  'src',\n",
       "  '/images/branding/googlelogo/1x/googlelogo_white_background_color_272x92dp.png',\n",
       "  0),\n",
       " (<Element form at 0x106ade7c8>, 'action', '/search', 0),\n",
       " (<Element a at 0x106ade818>, 'href', '/advanced_search?hl=en&authuser=0', 0),\n",
       " (<Element a at 0x106ade868>, 'href', '/language_tools?hl=en&authuser=0', 0),\n",
       " (<Element a at 0x1060eee58>, 'href', '/intl/en/ads/', 0),\n",
       " (<Element a at 0x1060eeea8>, 'href', '/services/', 0),\n",
       " (<Element a at 0x1060eeef8>,\n",
       "  'href',\n",
       "  'https://plus.google.com/116899029375914044550',\n",
       "  0),\n",
       " (<Element a at 0x1060eef98>, 'href', '/intl/en/about.html', 0),\n",
       " (<Element a at 0x1060eecc8>, 'href', '/intl/en/policies/privacy/', 0),\n",
       " (<Element a at 0x1060eed18>, 'href', '/intl/en/policies/terms/', 0)]"
      ]
     },
     "execution_count": 66,
     "metadata": {},
     "output_type": "execute_result"
    }
   ],
   "source": [
    "[l for l in tree.iterlinks()]"
   ]
  },
  {
   "cell_type": "code",
   "execution_count": 79,
   "metadata": {},
   "outputs": [],
   "source": [
    "from lxml.cssselect import CSSSelector"
   ]
  },
  {
   "cell_type": "code",
   "execution_count": 84,
   "metadata": {},
   "outputs": [],
   "source": [
    "my_link = tree.cssselect('a')"
   ]
  },
  {
   "cell_type": "code",
   "execution_count": 85,
   "metadata": {},
   "outputs": [
    {
     "data": {
      "text/plain": [
       "{'class': 'gb1', 'href': 'http://maps.google.com/maps?hl=en&tab=wl'}"
      ]
     },
     "execution_count": 85,
     "metadata": {},
     "output_type": "execute_result"
    }
   ],
   "source": [
    "my_link[1].attrib"
   ]
  },
  {
   "cell_type": "markdown",
   "metadata": {},
   "source": [
    "Use source of python.org\n",
    "How many paragraphs are on the page\n",
    "What is the text content of the div with the class \"shrubbery\" what are the links in teh same div\n",
    "What is the text in the code elemtns\n",
    "Bonus: Are there are any forms on the page"
   ]
  },
  {
   "cell_type": "code",
   "execution_count": 103,
   "metadata": {},
   "outputs": [],
   "source": [
    "source = urllib.request.urlopen('http://python.org')"
   ]
  },
  {
   "cell_type": "code",
   "execution_count": 104,
   "metadata": {},
   "outputs": [],
   "source": [
    "tree = html.document_fromstring(source.read())"
   ]
  },
  {
   "cell_type": "code",
   "execution_count": 131,
   "metadata": {},
   "outputs": [
    {
     "data": {
      "text/plain": [
       "23"
      ]
     },
     "execution_count": 131,
     "metadata": {},
     "output_type": "execute_result"
    }
   ],
   "source": [
    "len(tree.cssselect('p'))"
   ]
  },
  {
   "cell_type": "code",
   "execution_count": 91,
   "metadata": {},
   "outputs": [
    {
     "data": {
      "text/plain": [
       "23"
      ]
     },
     "execution_count": 91,
     "metadata": {},
     "output_type": "execute_result"
    }
   ],
   "source": [
    "len(paras)"
   ]
  },
  {
   "cell_type": "code",
   "execution_count": 142,
   "metadata": {},
   "outputs": [],
   "source": [
    "div = []"
   ]
  },
  {
   "cell_type": "code",
   "execution_count": 152,
   "metadata": {},
   "outputs": [
    {
     "name": "stdout",
     "output_type": "stream",
     "text": [
      "\n",
      "                        \n",
      "                            Latest News\n",
      "                            More\n",
      "                            \n",
      "                            \n",
      "                                \n",
      "                                \n",
      "                                \n",
      "2018-03-31\n",
      " On behalf of the PyPA, I am pleased to announce ...\n",
      "                                \n",
      "                                \n",
      "2018-03-30\n",
      " Python 3.7.0b3 is the third of four planned beta previews of Python ...\n",
      "                                \n",
      "                                \n",
      "2018-03-28\n",
      " Python 3.6.5 is now available.  3.6.5 is the fifth maintenance release of ...\n",
      "                                \n",
      "                                \n",
      "2018-03-26\n",
      " The new Python Package Index at https://pypi.org is now in ...\n",
      "                                \n",
      "                                \n",
      "2018-03-14\n",
      " Python 3.6.5rc1 is the first release candidate for Python 3.6.5, ...\n",
      "                                \n",
      "                            \n",
      "                        \n",
      "\n",
      "                        \n",
      "                            Upcoming Events\n",
      "                            More\n",
      "                            \n",
      "                            \n",
      "                                \n",
      "                                \n",
      "                                \n",
      "                                \n",
      "2018-04-10\n",
      " PiterPy Meetup\n",
      "                                \n",
      "                                \n",
      "                                \n",
      "                                \n",
      "2018-04-15\n",
      " Pyweek Game Programming Challenge\n",
      "                                \n",
      "                                \n",
      "                                \n",
      "                                \n",
      "2018-04-19\n",
      " PyCon IT 9\n",
      "                                \n",
      "                                \n",
      "                                \n",
      "                                \n",
      "2018-04-20\n",
      " Introducción a Django CMS y creación de plugins personalizados\n",
      "                                \n",
      "                                \n",
      "                                \n",
      "                                \n",
      "2018-04-27\n",
      " HackWeakEnd Technology Event\n",
      "                                \n",
      "                                \n",
      "                            \n",
      "                        \n",
      "\n",
      "                            \n",
      "\n",
      "                            Success Stories\n",
      "                            More\n",
      "\n",
      "                            \n",
      "                            \n",
      "\n",
      "                            \n",
      "                                ILM runs a batch processing environment capable of modeling, rendering and compositing tens of thousands of motion picture frames per day. Thousands of machines running Linux, IRIX, Compaq Tru64, OS X, Solaris, and Windows join together to provide a production pipeline used by ~800 users daily. Speed of development is key, and Python was a faster way to code (and re-code) the programs that control this production pipeline.\n",
      "                            \n",
      "\n",
      "                            \n",
      "                                \n",
      "                                    \n",
      "                                        \n",
      "                                        Industrial Light & Magic Runs on Python by Tim Fortenberry\n",
      "                                    \n",
      "                                \n",
      "                            \n",
      "                            \n",
      "                            \n",
      "\n",
      "                        \n",
      "\n",
      "                            Use Python for…\r\n",
      "More\r\n",
      "\r\n",
      "\r\n",
      "    Web Development:\r\n",
      "        Django, Pyramid, Bottle, Tornado, Flask, web2py\r\n",
      "    GUI Development:\r\n",
      "        tkInter, PyGObject, PyQt, PySide, Kivy, wxPython\r\n",
      "    Scientific and Numeric:\r\n",
      "        \r\n",
      "SciPy, Pandas, IPython\r\n",
      "    Software Development:\r\n",
      "        Buildbot, Trac, Roundup\r\n",
      "    System Administration:\r\n",
      "        Ansible, Salt, OpenStack\r\n",
      "\r\n",
      "\n",
      "                        \n"
     ]
    }
   ],
   "source": [
    "for div in tree.cssselect('div.shrubbery'):\n",
    "    print(div.text_content())"
   ]
  },
  {
   "cell_type": "code",
   "execution_count": 153,
   "metadata": {},
   "outputs": [
    {
     "name": "stdout",
     "output_type": "stream",
     "text": [
      "[(<Element a at 0x1079e8368>, 'href', 'http://blog.python.org', 0), (<Element a at 0x1079e84f8>, 'href', 'http://feedproxy.google.com/~r/PythonInsider/~3/KbidVz_mYtE/beta-release-of-pip-version-10.html', 0), (<Element a at 0x1079e8548>, 'href', 'http://feedproxy.google.com/~r/PythonInsider/~3/fX3AcI8XKGM/python-370b3-is-now-available-for.html', 0), (<Element a at 0x1079e8598>, 'href', 'http://feedproxy.google.com/~r/PythonInsider/~3/IYL2xdpdWMY/python-365-is-now-available.html', 0), (<Element a at 0x1079e8638>, 'href', 'http://feedproxy.google.com/~r/PythonInsider/~3/k4h0NbCP_pQ/the-all-new-python-package-index-is-now.html', 0), (<Element a at 0x1079e86d8>, 'href', 'http://feedproxy.google.com/~r/PythonInsider/~3/r2t6CLt4uWQ/python-365rc1-is-now-available-for.html', 0)]\n",
      "[(<Element a at 0x1079e8778>, 'href', '/events/calendars/', 0), (<Element a at 0x1079e88b8>, 'href', '/events/python-user-group/668/', 0), (<Element a at 0x1079e8908>, 'href', '/events/python-user-group/686/', 0), (<Element a at 0x1079e89a8>, 'href', '/events/python-events/585/', 0), (<Element a at 0x1079e8a98>, 'href', '/events/python-user-group/692/', 0), (<Element a at 0x1079e8b88>, 'href', '/events/python-events/693/', 0)]\n",
      "[(<Element a at 0x1079e8d18>, 'href', '/success-stories/', 0), (<Element a at 0x1079e8e08>, 'href', '/success-stories/industrial-light-magic-runs-python/', 0), (<Element a at 0x1079e8ef8>, 'href', '/success-stories/industrial-light-magic-runs-python/', 0)]\n",
      "[(<Element a at 0x1079e8e58>, 'href', '/about/apps', 0), (<Element a at 0x1079d0048>, 'href', 'http://www.djangoproject.com/', 0), (<Element a at 0x1079d0098>, 'href', 'http://www.pylonsproject.org/', 0), (<Element a at 0x1079d0138>, 'href', 'http://bottlepy.org', 0), (<Element a at 0x1079d0228>, 'href', 'http://tornadoweb.org', 0), (<Element a at 0x1079d02c8>, 'href', 'http://flask.pocoo.org/', 0), (<Element a at 0x1079d0368>, 'href', 'http://www.web2py.com/', 0), (<Element a at 0x1079d0408>, 'href', 'http://wiki.python.org/moin/TkInter', 0), (<Element a at 0x1079d04a8>, 'href', 'https://wiki.gnome.org/Projects/PyGObject', 0), (<Element a at 0x1079d0548>, 'href', 'http://www.riverbankcomputing.co.uk/software/pyqt/intro', 0), (<Element a at 0x1079d05e8>, 'href', 'https://wiki.qt.io/PySide', 0), (<Element a at 0x1079d0688>, 'href', 'https://kivy.org/', 0), (<Element a at 0x1079d0778>, 'href', 'http://www.wxpython.org/', 0), (<Element a at 0x1079d0818>, 'href', 'http://www.scipy.org', 0), (<Element a at 0x1079d0908>, 'href', 'http://pandas.pydata.org/', 0), (<Element a at 0x1079d09a8>, 'href', 'http://ipython.org', 0), (<Element a at 0x1079d0a98>, 'href', 'http://buildbot.net/', 0), (<Element a at 0x1079d0b38>, 'href', 'http://trac.edgewall.org/', 0), (<Element a at 0x1079d0bd8>, 'href', 'http://roundup.sourceforge.net/', 0), (<Element a at 0x1079d0cc8>, 'href', 'http://www.ansible.com', 0), (<Element a at 0x1079d0db8>, 'href', 'http://www.saltstack.com', 0), (<Element a at 0x1079d0e58>, 'href', 'https://www.openstack.org', 0)]\n"
     ]
    }
   ],
   "source": [
    "for div in tree.cssselect('div.shrubbery'):\n",
    "    print([l for l in div.iterlinks()])"
   ]
  },
  {
   "cell_type": "code",
   "execution_count": 154,
   "metadata": {},
   "outputs": [
    {
     "data": {
      "text/plain": [
       "[<Element code at 0x107802408>,\n",
       " <Element code at 0x107802c28>,\n",
       " <Element code at 0x107802b88>,\n",
       " <Element code at 0x1079cb868>,\n",
       " <Element code at 0x1079cbc28>,\n",
       " <Element code at 0x1079cbae8>,\n",
       " <Element code at 0x1079718b8>,\n",
       " <Element code at 0x107967958>,\n",
       " <Element code at 0x107967c78>,\n",
       " <Element code at 0x106f92d18>,\n",
       " <Element code at 0x107800958>,\n",
       " <Element code at 0x1078007c8>,\n",
       " <Element code at 0x107800b88>,\n",
       " <Element code at 0x107800e58>]"
      ]
     },
     "execution_count": 154,
     "metadata": {},
     "output_type": "execute_result"
    }
   ],
   "source": [
    "tree.cssselect('code')"
   ]
  },
  {
   "cell_type": "code",
   "execution_count": 130,
   "metadata": {},
   "outputs": [
    {
     "data": {
      "text/plain": [
       "[(<Element link at 0x1079d1458>,\n",
       "  'href',\n",
       "  '//ajax.googleapis.com/ajax/libs/jquery/1.8.2/jquery.min.js',\n",
       "  0),\n",
       " (<Element script at 0x1079d1638>, 'src', '/static/js/libs/modernizr.js', 0),\n",
       " (<Element link at 0x1079d1688>, 'href', '/static/stylesheets/style.css', 0),\n",
       " (<Element link at 0x1079d1728>, 'href', '/static/stylesheets/mq.css', 0),\n",
       " (<Element link at 0x1079d1818>, 'href', '/static/favicon.ico', 0),\n",
       " (<Element link at 0x1079d1908>,\n",
       "  'href',\n",
       "  '/static/apple-touch-icon-144x144-precomposed.png',\n",
       "  0),\n",
       " (<Element link at 0x1079d19a8>,\n",
       "  'href',\n",
       "  '/static/apple-touch-icon-114x114-precomposed.png',\n",
       "  0),\n",
       " (<Element link at 0x1079d1a48>,\n",
       "  'href',\n",
       "  '/static/apple-touch-icon-72x72-precomposed.png',\n",
       "  0),\n",
       " (<Element link at 0x1079d1ae8>,\n",
       "  'href',\n",
       "  '/static/apple-touch-icon-precomposed.png',\n",
       "  0),\n",
       " (<Element link at 0x1079d1b88>,\n",
       "  'href',\n",
       "  '/static/apple-touch-icon-precomposed.png',\n",
       "  0),\n",
       " (<Element link at 0x1079d1cc8>, 'href', '/static/humans.txt', 0),\n",
       " (<Element link at 0x1079d1d18>,\n",
       "  'href',\n",
       "  'https://www.python.org/dev/peps/peps.rss/',\n",
       "  0),\n",
       " (<Element link at 0x1079d1d68>,\n",
       "  'href',\n",
       "  'https://www.python.org/jobs/feed/rss/',\n",
       "  0),\n",
       " (<Element link at 0x1079d1e08>,\n",
       "  'href',\n",
       "  'https://feeds.feedburner.com/PythonSoftwareFoundationNews',\n",
       "  0),\n",
       " (<Element link at 0x1079d1ea8>,\n",
       "  'href',\n",
       "  'https://feeds.feedburner.com/PythonInsider',\n",
       "  0),\n",
       " (<Element a at 0x1079db098>, 'href', '#content', 0),\n",
       " (<Element a at 0x1079d1f48>, 'href', '#python-network', 0),\n",
       " (<Element a at 0x1079db188>, 'href', '/', 0),\n",
       " (<Element a at 0x1079db228>, 'href', '/psf-landing/', 0),\n",
       " (<Element a at 0x1079db2c8>, 'href', 'https://docs.python.org', 0),\n",
       " (<Element a at 0x1079db368>, 'href', 'https://pypi.python.org/', 0),\n",
       " (<Element a at 0x1079db458>, 'href', '/jobs/', 0),\n",
       " (<Element a at 0x1079db4f8>, 'href', '/community/', 0),\n",
       " (<Element a at 0x1079db548>, 'href', '#top', 0),\n",
       " (<Element a at 0x1079db688>, 'href', '/', 0),\n",
       " (<Element img at 0x1079db598>, 'src', '/static/img/python-logo.png', 0),\n",
       " (<Element a at 0x1079db778>, 'href', '#site-map', 0),\n",
       " (<Element form at 0x1079db868>, 'action', '/search/', 0),\n",
       " (<Element a at 0x1079db8b8>, 'href', '#', 0),\n",
       " (<Element a at 0x1079db9a8>, 'href', 'javascript:;', 0),\n",
       " (<Element a at 0x1079dba48>, 'href', 'javascript:;', 0),\n",
       " (<Element a at 0x1079dbae8>, 'href', 'javascript:;', 0),\n",
       " (<Element a at 0x1079dbbd8>, 'href', '#', 0),\n",
       " (<Element a at 0x1079dbc78>, 'href', 'http://plus.google.com/+Python', 0),\n",
       " (<Element a at 0x1079dbd68>,\n",
       "  'href',\n",
       "  'http://www.facebook.com/pythonlang?fref=ts',\n",
       "  0),\n",
       " (<Element a at 0x1079dbe08>, 'href', 'http://twitter.com/ThePSF', 0),\n",
       " (<Element a at 0x1079dbef8>, 'href', '/community/irc/', 0),\n",
       " (<Element a at 0x1079dbf98>, 'href', '/accounts/login/', 0),\n",
       " (<Element a at 0x1079ec098>, 'href', '/accounts/signup/', 0),\n",
       " (<Element a at 0x1079ec0e8>, 'href', '/accounts/login/', 0),\n",
       " (<Element a at 0x1079ec138>, 'href', '/about/', 0),\n",
       " (<Element a at 0x1079ec278>, 'href', '/about/apps/', 0),\n",
       " (<Element a at 0x1079ec2c8>, 'href', '/about/quotes/', 0),\n",
       " (<Element a at 0x1079ec368>, 'href', '/about/gettingstarted/', 0),\n",
       " (<Element a at 0x1079ec408>, 'href', '/about/help/', 0),\n",
       " (<Element a at 0x1079ec4a8>, 'href', 'http://brochure.getpython.info/', 0),\n",
       " (<Element a at 0x1079ec598>, 'href', '/downloads/', 0),\n",
       " (<Element a at 0x1079ec688>, 'href', '/downloads/', 0),\n",
       " (<Element a at 0x1079ec6d8>, 'href', '/downloads/source/', 0),\n",
       " (<Element a at 0x1079ec778>, 'href', '/downloads/windows/', 0),\n",
       " (<Element a at 0x1079ec818>, 'href', '/downloads/mac-osx/', 0),\n",
       " (<Element a at 0x1079ec8b8>, 'href', '/download/other/', 0),\n",
       " (<Element a at 0x1079ec958>,\n",
       "  'href',\n",
       "  'https://docs.python.org/3/license.html',\n",
       "  0),\n",
       " (<Element a at 0x1079ec9f8>, 'href', '/download/alternatives', 0),\n",
       " (<Element a at 0x1079eca98>, 'href', '/doc/', 0),\n",
       " (<Element a at 0x1079ecb88>, 'href', '/doc/', 0),\n",
       " (<Element a at 0x1079ecbd8>, 'href', '/doc/av', 0),\n",
       " (<Element a at 0x1079ecc78>,\n",
       "  'href',\n",
       "  'https://wiki.python.org/moin/BeginnersGuide',\n",
       "  0),\n",
       " (<Element a at 0x1079ecd18>, 'href', 'https://devguide.python.org/', 0),\n",
       " (<Element a at 0x1079ece08>, 'href', 'https://docs.python.org/faq/', 0),\n",
       " (<Element a at 0x1079ecef8>,\n",
       "  'href',\n",
       "  'http://wiki.python.org/moin/Languages',\n",
       "  0),\n",
       " (<Element a at 0x1079ecf98>, 'href', 'http://python.org/dev/peps/', 0),\n",
       " (<Element a at 0x1079ee0e8>,\n",
       "  'href',\n",
       "  'https://wiki.python.org/moin/PythonBooks',\n",
       "  0),\n",
       " (<Element a at 0x1079ee188>, 'href', '/doc/essays/', 0),\n",
       " (<Element a at 0x1079ee228>, 'href', '/community/', 0),\n",
       " (<Element a at 0x1079ee318>, 'href', '/community/diversity/', 0),\n",
       " (<Element a at 0x1079ee368>, 'href', '/community/lists/', 0),\n",
       " (<Element a at 0x1079ee408>, 'href', '/community/irc/', 0),\n",
       " (<Element a at 0x1079ee4a8>, 'href', '/community/forums/', 0),\n",
       " (<Element a at 0x1079ee548>, 'href', '/community/workshops/', 0),\n",
       " (<Element a at 0x1079ee5e8>, 'href', '/community/sigs/', 0),\n",
       " (<Element a at 0x1079ee688>, 'href', 'https://wiki.python.org/moin/', 0),\n",
       " (<Element a at 0x1079ee778>, 'href', '/community/logos/', 0),\n",
       " (<Element a at 0x1079ee818>, 'href', '/community/merchandise/', 0),\n",
       " (<Element a at 0x1079ee8b8>, 'href', '/community/awards', 0),\n",
       " (<Element a at 0x1079ee958>,\n",
       "  'href',\n",
       "  'https://www.python.org/psf/codeofconduct/',\n",
       "  0),\n",
       " (<Element a at 0x1079ee9f8>, 'href', '/about/success/', 0),\n",
       " (<Element a at 0x1079eeae8>, 'href', '/about/success/#arts', 0),\n",
       " (<Element a at 0x1079eeb38>, 'href', '/about/success/#business', 0),\n",
       " (<Element a at 0x1079eec28>, 'href', '/about/success/#education', 0),\n",
       " (<Element a at 0x1079eed18>, 'href', '/about/success/#engineering', 0),\n",
       " (<Element a at 0x1079eee08>, 'href', '/about/success/#government', 0),\n",
       " (<Element a at 0x1079eeef8>, 'href', '/about/success/#scientific', 0),\n",
       " (<Element a at 0x1079e7048>,\n",
       "  'href',\n",
       "  '/about/success/#software-development',\n",
       "  0),\n",
       " (<Element a at 0x1079e70e8>, 'href', '/blogs/', 0),\n",
       " (<Element a at 0x1079e71d8>, 'href', '/blogs/', 0),\n",
       " (<Element a at 0x1079e7228>, 'href', 'http://planetpython.org/', 0),\n",
       " (<Element a at 0x1079e7318>, 'href', 'http://pyfound.blogspot.com/', 0),\n",
       " (<Element a at 0x1079e7408>, 'href', 'http://pycon.blogspot.com/', 0),\n",
       " (<Element a at 0x1079e74f8>, 'href', '/events/', 0),\n",
       " (<Element a at 0x1079e75e8>, 'href', '/events/python-events', 0),\n",
       " (<Element a at 0x1079e7638>, 'href', '/events/python-user-group/', 0),\n",
       " (<Element a at 0x1079e7728>, 'href', '/events/python-events/past/', 0),\n",
       " (<Element a at 0x1079e7818>, 'href', '/events/python-user-group/past/', 0),\n",
       " (<Element a at 0x1079e7908>,\n",
       "  'href',\n",
       "  'https://wiki.python.org/moin/PythonEventsCalendar#Submitting_an_Event',\n",
       "  0),\n",
       " (<Element a at 0x1079e79f8>, 'href', '/shell/', 0),\n",
       " (<Element a at 0x1079e7a98>,\n",
       "  'href',\n",
       "  '//docs.python.org/3/tutorial/controlflow.html#defining-functions',\n",
       "  0),\n",
       " (<Element a at 0x1079e7ae8>,\n",
       "  'href',\n",
       "  '//docs.python.org/3/tutorial/introduction.html#lists',\n",
       "  0),\n",
       " (<Element a at 0x1079e7bd8>,\n",
       "  'href',\n",
       "  'http://docs.python.org/3/tutorial/introduction.html#using-python-as-a-calculator',\n",
       "  0),\n",
       " (<Element a at 0x1079e7c28>, 'href', '//docs.python.org/3/tutorial/', 0),\n",
       " (<Element a at 0x1079e7d68>,\n",
       "  'href',\n",
       "  '//docs.python.org/3/tutorial/controlflow.html',\n",
       "  0),\n",
       " (<Element a at 0x1079e7e08>, 'href', '/doc/', 0),\n",
       " (<Element a at 0x1079e7e58>,\n",
       "  'href',\n",
       "  'https://www.jetbrains.com/research/python-developers-survey-2017/',\n",
       "  0),\n",
       " (<Element img at 0x1079e7d18>,\n",
       "  'src',\n",
       "  '/static/img/jetbrains/jb_banner_results.png',\n",
       "  0),\n",
       " (<Element a at 0x1079e7f98>, 'href', '/about/gettingstarted/', 0),\n",
       " (<Element a at 0x1079e8048>,\n",
       "  'href',\n",
       "  'https://wiki.python.org/moin/Python2orPython3',\n",
       "  0),\n",
       " (<Element a at 0x1079e8138>, 'href', '/downloads/release/python-365/', 0),\n",
       " (<Element a at 0x1079e8188>, 'href', '/downloads/release/python-2714/', 0),\n",
       " (<Element a at 0x1079e8318>, 'href', 'https://docs.python.org', 0),\n",
       " (<Element a at 0x1079e8408>, 'href', '//jobs.python.org', 0),\n",
       " (<Element a at 0x1079e8368>, 'href', 'http://blog.python.org', 0),\n",
       " (<Element a at 0x1079e84f8>,\n",
       "  'href',\n",
       "  'http://feedproxy.google.com/~r/PythonInsider/~3/KbidVz_mYtE/beta-release-of-pip-version-10.html',\n",
       "  0),\n",
       " (<Element a at 0x1079e8548>,\n",
       "  'href',\n",
       "  'http://feedproxy.google.com/~r/PythonInsider/~3/fX3AcI8XKGM/python-370b3-is-now-available-for.html',\n",
       "  0),\n",
       " (<Element a at 0x1079e8598>,\n",
       "  'href',\n",
       "  'http://feedproxy.google.com/~r/PythonInsider/~3/IYL2xdpdWMY/python-365-is-now-available.html',\n",
       "  0),\n",
       " (<Element a at 0x1079e8638>,\n",
       "  'href',\n",
       "  'http://feedproxy.google.com/~r/PythonInsider/~3/k4h0NbCP_pQ/the-all-new-python-package-index-is-now.html',\n",
       "  0),\n",
       " (<Element a at 0x1079e86d8>,\n",
       "  'href',\n",
       "  'http://feedproxy.google.com/~r/PythonInsider/~3/r2t6CLt4uWQ/python-365rc1-is-now-available-for.html',\n",
       "  0),\n",
       " (<Element a at 0x1079e8778>, 'href', '/events/calendars/', 0),\n",
       " (<Element a at 0x1079e88b8>, 'href', '/events/python-user-group/668/', 0),\n",
       " (<Element a at 0x1079e8908>, 'href', '/events/python-user-group/686/', 0),\n",
       " (<Element a at 0x1079e89a8>, 'href', '/events/python-events/585/', 0),\n",
       " (<Element a at 0x1079e8a98>, 'href', '/events/python-user-group/692/', 0),\n",
       " (<Element a at 0x1079e8b88>, 'href', '/events/python-events/693/', 0),\n",
       " (<Element a at 0x1079e8d18>, 'href', '/success-stories/', 0),\n",
       " (<Element a at 0x1079e8e08>,\n",
       "  'href',\n",
       "  '/success-stories/industrial-light-magic-runs-python/',\n",
       "  0),\n",
       " (<Element a at 0x1079e8ef8>,\n",
       "  'href',\n",
       "  '/success-stories/industrial-light-magic-runs-python/',\n",
       "  0),\n",
       " (<Element a at 0x1079e8e58>, 'href', '/about/apps', 0),\n",
       " (<Element a at 0x1079d0048>, 'href', 'http://www.djangoproject.com/', 0),\n",
       " (<Element a at 0x1079d0098>, 'href', 'http://www.pylonsproject.org/', 0),\n",
       " (<Element a at 0x1079d0138>, 'href', 'http://bottlepy.org', 0),\n",
       " (<Element a at 0x1079d0228>, 'href', 'http://tornadoweb.org', 0),\n",
       " (<Element a at 0x1079d02c8>, 'href', 'http://flask.pocoo.org/', 0),\n",
       " (<Element a at 0x1079d0368>, 'href', 'http://www.web2py.com/', 0),\n",
       " (<Element a at 0x1079d0408>,\n",
       "  'href',\n",
       "  'http://wiki.python.org/moin/TkInter',\n",
       "  0),\n",
       " (<Element a at 0x1079d04a8>,\n",
       "  'href',\n",
       "  'https://wiki.gnome.org/Projects/PyGObject',\n",
       "  0),\n",
       " (<Element a at 0x1079d0548>,\n",
       "  'href',\n",
       "  'http://www.riverbankcomputing.co.uk/software/pyqt/intro',\n",
       "  0),\n",
       " (<Element a at 0x1079d05e8>, 'href', 'https://wiki.qt.io/PySide', 0),\n",
       " (<Element a at 0x1079d0688>, 'href', 'https://kivy.org/', 0),\n",
       " (<Element a at 0x1079d0778>, 'href', 'http://www.wxpython.org/', 0),\n",
       " (<Element a at 0x1079d0818>, 'href', 'http://www.scipy.org', 0),\n",
       " (<Element a at 0x1079d0908>, 'href', 'http://pandas.pydata.org/', 0),\n",
       " (<Element a at 0x1079d09a8>, 'href', 'http://ipython.org', 0),\n",
       " (<Element a at 0x1079d0a98>, 'href', 'http://buildbot.net/', 0),\n",
       " (<Element a at 0x1079d0b38>, 'href', 'http://trac.edgewall.org/', 0),\n",
       " (<Element a at 0x1079d0bd8>, 'href', 'http://roundup.sourceforge.net/', 0),\n",
       " (<Element a at 0x1079d0cc8>, 'href', 'http://www.ansible.com', 0),\n",
       " (<Element a at 0x1079d0db8>, 'href', 'http://www.saltstack.com', 0),\n",
       " (<Element a at 0x1079d0e58>, 'href', 'https://www.openstack.org', 0),\n",
       " (<Element a at 0x1079c60e8>, 'href', '/dev/peps/', 0),\n",
       " (<Element a at 0x1079c6188>, 'href', '/dev/peps/peps.rss', 0),\n",
       " (<Element a at 0x1079c6228>, 'href', '/psf/', 0),\n",
       " (<Element a at 0x1079c6278>, 'href', '/psf/', 0),\n",
       " (<Element a at 0x1079c6318>, 'href', '/users/membership/', 0),\n",
       " (<Element a at 0x1079c6368>, 'href', '/psf/donations/', 0),\n",
       " (<Element a at 0x1079c63b8>, 'href', '#python-network', 0),\n",
       " (<Element a at 0x1079c64f8>, 'href', '/about/', 0),\n",
       " (<Element a at 0x1079c65e8>, 'href', '/about/apps/', 0),\n",
       " (<Element a at 0x1079c6638>, 'href', '/about/quotes/', 0),\n",
       " (<Element a at 0x1079c66d8>, 'href', '/about/gettingstarted/', 0),\n",
       " (<Element a at 0x1079c6778>, 'href', '/about/help/', 0),\n",
       " (<Element a at 0x1079c6818>, 'href', 'http://brochure.getpython.info/', 0),\n",
       " (<Element a at 0x1079c6908>, 'href', '/downloads/', 0),\n",
       " (<Element a at 0x1079c69f8>, 'href', '/downloads/', 0),\n",
       " (<Element a at 0x1079c6a48>, 'href', '/downloads/source/', 0),\n",
       " (<Element a at 0x1079c6ae8>, 'href', '/downloads/windows/', 0),\n",
       " (<Element a at 0x1079c6b88>, 'href', '/downloads/mac-osx/', 0),\n",
       " (<Element a at 0x1079c6c28>, 'href', '/download/other/', 0),\n",
       " (<Element a at 0x1079c6cc8>,\n",
       "  'href',\n",
       "  'https://docs.python.org/3/license.html',\n",
       "  0),\n",
       " (<Element a at 0x1079c6d68>, 'href', '/download/alternatives', 0),\n",
       " (<Element a at 0x1079c6e08>, 'href', '/doc/', 0),\n",
       " (<Element a at 0x1079c6ef8>, 'href', '/doc/', 0),\n",
       " (<Element a at 0x1079c6f48>, 'href', '/doc/av', 0),\n",
       " (<Element a at 0x1079c5048>,\n",
       "  'href',\n",
       "  'https://wiki.python.org/moin/BeginnersGuide',\n",
       "  0),\n",
       " (<Element a at 0x1079c50e8>, 'href', 'https://devguide.python.org/', 0),\n",
       " (<Element a at 0x1079c51d8>, 'href', 'https://docs.python.org/faq/', 0),\n",
       " (<Element a at 0x1079c52c8>,\n",
       "  'href',\n",
       "  'http://wiki.python.org/moin/Languages',\n",
       "  0),\n",
       " (<Element a at 0x1079c5368>, 'href', 'http://python.org/dev/peps/', 0),\n",
       " (<Element a at 0x1079c5458>,\n",
       "  'href',\n",
       "  'https://wiki.python.org/moin/PythonBooks',\n",
       "  0),\n",
       " (<Element a at 0x1079c54f8>, 'href', '/doc/essays/', 0),\n",
       " (<Element a at 0x1079c5598>, 'href', '/community/', 0),\n",
       " (<Element a at 0x1079c5688>, 'href', '/community/diversity/', 0),\n",
       " (<Element a at 0x1079c56d8>, 'href', '/community/lists/', 0),\n",
       " (<Element a at 0x1079c5778>, 'href', '/community/irc/', 0),\n",
       " (<Element a at 0x1079c5818>, 'href', '/community/forums/', 0),\n",
       " (<Element a at 0x1079c58b8>, 'href', '/community/workshops/', 0),\n",
       " (<Element a at 0x1079c5958>, 'href', '/community/sigs/', 0),\n",
       " (<Element a at 0x1079c59f8>, 'href', 'https://wiki.python.org/moin/', 0),\n",
       " (<Element a at 0x1079c5ae8>, 'href', '/community/logos/', 0),\n",
       " (<Element a at 0x1079c5b88>, 'href', '/community/merchandise/', 0),\n",
       " (<Element a at 0x1079c5c28>, 'href', '/community/awards', 0),\n",
       " (<Element a at 0x1079c5cc8>,\n",
       "  'href',\n",
       "  'https://www.python.org/psf/codeofconduct/',\n",
       "  0),\n",
       " (<Element a at 0x1079c5d68>, 'href', '/about/success/', 0),\n",
       " (<Element a at 0x1079c5e58>, 'href', '/about/success/#arts', 0),\n",
       " (<Element a at 0x1079c5ea8>, 'href', '/about/success/#business', 0),\n",
       " (<Element a at 0x1079c5f98>, 'href', '/about/success/#education', 0),\n",
       " (<Element a at 0x1079eb0e8>, 'href', '/about/success/#engineering', 0),\n",
       " (<Element a at 0x1079eb1d8>, 'href', '/about/success/#government', 0),\n",
       " (<Element a at 0x1079eb2c8>, 'href', '/about/success/#scientific', 0),\n",
       " (<Element a at 0x1079eb3b8>,\n",
       "  'href',\n",
       "  '/about/success/#software-development',\n",
       "  0),\n",
       " (<Element a at 0x1079eb458>, 'href', '/blogs/', 0),\n",
       " (<Element a at 0x1079eb548>, 'href', '/blogs/', 0),\n",
       " (<Element a at 0x1079eb598>, 'href', 'http://planetpython.org/', 0),\n",
       " (<Element a at 0x1079eb688>, 'href', 'http://pyfound.blogspot.com/', 0),\n",
       " (<Element a at 0x1079eb778>, 'href', 'http://pycon.blogspot.com/', 0),\n",
       " (<Element a at 0x1079eb868>, 'href', '/events/', 0),\n",
       " (<Element a at 0x1079eb958>, 'href', '/events/python-events', 0),\n",
       " (<Element a at 0x1079eb9a8>, 'href', '/events/python-user-group/', 0),\n",
       " (<Element a at 0x1079eba98>, 'href', '/events/python-events/past/', 0),\n",
       " (<Element a at 0x1079ebb88>, 'href', '/events/python-user-group/past/', 0),\n",
       " (<Element a at 0x1079ebc78>,\n",
       "  'href',\n",
       "  'https://wiki.python.org/moin/PythonEventsCalendar#Submitting_an_Event',\n",
       "  0),\n",
       " (<Element a at 0x1079ebd18>, 'href', '/dev/', 0),\n",
       " (<Element a at 0x1079ebe08>, 'href', 'https://devguide.python.org/', 0),\n",
       " (<Element a at 0x1079ebea8>, 'href', 'https://bugs.python.org/', 0),\n",
       " (<Element a at 0x1079ebf98>,\n",
       "  'href',\n",
       "  'https://mail.python.org/mailman/listinfo/python-dev',\n",
       "  0),\n",
       " (<Element a at 0x1079fc098>, 'href', '/dev/core-mentorship/', 0),\n",
       " (<Element a at 0x1079fc0e8>, 'href', '#python-network', 0),\n",
       " (<Element a at 0x1079fc228>, 'href', '/about/help/', 0),\n",
       " (<Element a at 0x1079fc2c8>, 'href', '/community/diversity/', 0),\n",
       " (<Element a at 0x1079fc368>,\n",
       "  'href',\n",
       "  'https://github.com/python/pythondotorg/issues',\n",
       "  0),\n",
       " (<Element a at 0x1079fc3b8>, 'href', 'https://status.python.org/', 0),\n",
       " (<Element a at 0x1079fc408>, 'href', '/psf-landing/', 0),\n",
       " (<Element a at 0x1079fc548>, 'href', '/about/legal/', 0),\n",
       " (<Element a at 0x1079fc5e8>, 'href', '/privacy/', 0),\n",
       " (<Element a at 0x1079fc688>, 'href', '/psf/sponsorship/sponsors/', 0),\n",
       " (<Element script at 0x1079fc6d8>,\n",
       "  'src',\n",
       "  '//ajax.googleapis.com/ajax/libs/jquery/1.8.2/jquery.min.js',\n",
       "  0),\n",
       " (<Element script at 0x1079fc818>,\n",
       "  'src',\n",
       "  '/static/js/libs/masonry.pkgd.min.js',\n",
       "  0),\n",
       " (<Element script at 0x1079fc868>, 'src', '/static/js/main-min.js', 0)]"
      ]
     },
     "execution_count": 130,
     "metadata": {},
     "output_type": "execute_result"
    }
   ],
   "source": [
    "[d for d in tree.iterlinks()]"
   ]
  },
  {
   "cell_type": "code",
   "execution_count": 155,
   "metadata": {},
   "outputs": [
    {
     "data": {
      "text/plain": [
       "[None,\n",
       " None,\n",
       " None,\n",
       " '+',\n",
       " '-',\n",
       " '*',\n",
       " '/',\n",
       " '()',\n",
       " None,\n",
       " None,\n",
       " 'if',\n",
       " 'for',\n",
       " 'while',\n",
       " 'range']"
      ]
     },
     "execution_count": 155,
     "metadata": {},
     "output_type": "execute_result"
    }
   ],
   "source": [
    "[t.text for t in tree.cssselect('code')]"
   ]
  },
  {
   "cell_type": "code",
   "execution_count": 156,
   "metadata": {},
   "outputs": [
    {
     "data": {
      "text/plain": [
       "[<Element form at 0x1079db868>]"
      ]
     },
     "execution_count": 156,
     "metadata": {},
     "output_type": "execute_result"
    }
   ],
   "source": [
    "tree.cssselect('form')"
   ]
  },
  {
   "cell_type": "code",
   "execution_count": 157,
   "metadata": {},
   "outputs": [
    {
     "data": {
      "text/plain": [
       "[<Element form at 0x1079db868>]"
      ]
     },
     "execution_count": 157,
     "metadata": {},
     "output_type": "execute_result"
    }
   ],
   "source": [
    "tree.forms"
   ]
  },
  {
   "cell_type": "code",
   "execution_count": 2,
   "metadata": {},
   "outputs": [
    {
     "name": "stderr",
     "output_type": "stream",
     "text": [
      "ERROR:root:File `'xpath_intro.py'` not found.\n"
     ]
    }
   ],
   "source": [
    "%run xpath_intro.py"
   ]
  },
  {
   "cell_type": "code",
   "execution_count": 203,
   "metadata": {},
   "outputs": [
    {
     "data": {
      "text/plain": [
       "<Element html at 0x105feb1d8>"
      ]
     },
     "execution_count": 203,
     "metadata": {},
     "output_type": "execute_result"
    }
   ],
   "source": [
    "simple_tree"
   ]
  },
  {
   "cell_type": "code",
   "execution_count": 204,
   "metadata": {},
   "outputs": [
    {
     "data": {
      "text/plain": [
       "[<Element p at 0x105fc99a8>, <Element p at 0x105fc9cc8>]"
      ]
     },
     "execution_count": 204,
     "metadata": {},
     "output_type": "execute_result"
    }
   ],
   "source": [
    "simple_tree.xpath('//p')"
   ]
  },
  {
   "cell_type": "code",
   "execution_count": 161,
   "metadata": {},
   "outputs": [
    {
     "data": {
      "text/plain": [
       "['Lorem ipsum dolor sit amet, ...',\n",
       " 'Nunc cursus, justo eget elementum dictum, ... ']"
      ]
     },
     "execution_count": 161,
     "metadata": {},
     "output_type": "execute_result"
    }
   ],
   "source": [
    "simple_tree.xpath('//p/text()')"
   ]
  },
  {
   "cell_type": "code",
   "execution_count": 162,
   "metadata": {},
   "outputs": [
    {
     "data": {
      "text/plain": [
       "['\\n',\n",
       " <Element head at 0x10781d368>,\n",
       " '\\n',\n",
       " <Element body at 0x1077ff1d8>,\n",
       " '\\n']"
      ]
     },
     "execution_count": 162,
     "metadata": {},
     "output_type": "execute_result"
    }
   ],
   "source": [
    "simple_tree.xpath('node()')"
   ]
  },
  {
   "cell_type": "code",
   "execution_count": 163,
   "metadata": {},
   "outputs": [
    {
     "data": {
      "text/plain": [
       "[<Element head at 0x10781d368>, <Element body at 0x1077ff1d8>]"
      ]
     },
     "execution_count": 163,
     "metadata": {},
     "output_type": "execute_result"
    }
   ],
   "source": [
    "simple_tree.xpath('*')"
   ]
  },
  {
   "cell_type": "code",
   "execution_count": 164,
   "metadata": {},
   "outputs": [
    {
     "data": {
      "text/plain": [
       "[<Element div at 0x1077ff318>]"
      ]
     },
     "execution_count": 164,
     "metadata": {},
     "output_type": "execute_result"
    }
   ],
   "source": [
    "simple_tree.xpath('body/*')"
   ]
  },
  {
   "cell_type": "code",
   "execution_count": 165,
   "metadata": {},
   "outputs": [
    {
     "data": {
      "text/plain": [
       "[<Element div at 0x1077ff228>,\n",
       " <Element div at 0x1077ff2c8>,\n",
       " <Element div at 0x1077ff048>]"
      ]
     },
     "execution_count": 165,
     "metadata": {},
     "output_type": "execute_result"
    }
   ],
   "source": [
    "simple_tree.xpath('body/div/div/*')"
   ]
  },
  {
   "cell_type": "markdown",
   "metadata": {},
   "source": [
    "Can you show all of the text that are in lists on the page?\n",
    "Can you find all of the attributes on the page?\n",
    "Can you find nay links on the page?\n",
    "Can you get ot the style sheet information?\n",
    "Extra credit: //elem[@attr= \"foo\"] will match elements where that attribute is equal to foo\n",
    "Extra extra: try above without the []"
   ]
  },
  {
   "cell_type": "code",
   "execution_count": 170,
   "metadata": {},
   "outputs": [
    {
     "data": {
      "text/plain": [
       "['Foo', 'Bar', 'Boo', 'Far']"
      ]
     },
     "execution_count": 170,
     "metadata": {},
     "output_type": "execute_result"
    }
   ],
   "source": [
    "simple_tree.xpath('//li/text()')"
   ]
  },
  {
   "cell_type": "code",
   "execution_count": 205,
   "metadata": {},
   "outputs": [
    {
     "data": {
      "text/plain": [
       "['http://www.w3.org/1999/xhtml',\n",
       " 'en',\n",
       " 'en',\n",
       " 'container',\n",
       " 'content',\n",
       " 'clearfix',\n",
       " 'header',\n",
       " 'nav',\n",
       " 'navblock',\n",
       " 'navblock',\n",
       " 'maincontent',\n",
       " 'contentblock',\n",
       " 'contentblock']"
      ]
     },
     "execution_count": 205,
     "metadata": {},
     "output_type": "execute_result"
    }
   ],
   "source": [
    "simple_tree.xpath('//@*')"
   ]
  },
  {
   "cell_type": "code",
   "execution_count": 190,
   "metadata": {},
   "outputs": [
    {
     "data": {
      "text/plain": [
       "['http://www.w3.org/1999/xhtml', 'en', 'en']"
      ]
     },
     "execution_count": 190,
     "metadata": {},
     "output_type": "execute_result"
    }
   ],
   "source": [
    "simple_tree.xpath('@*')\n",
    "#only shows root document"
   ]
  },
  {
   "cell_type": "code",
   "execution_count": 191,
   "metadata": {},
   "outputs": [
    {
     "data": {
      "text/plain": [
       "[]"
      ]
     },
     "execution_count": 191,
     "metadata": {},
     "output_type": "execute_result"
    }
   ],
   "source": [
    "simple_tree.xpath('//a')"
   ]
  },
  {
   "cell_type": "code",
   "execution_count": 183,
   "metadata": {},
   "outputs": [
    {
     "data": {
      "text/plain": [
       "['\\n',\n",
       " <Element head at 0x10781d368>,\n",
       " '\\n',\n",
       " <Element body at 0x1077ff1d8>,\n",
       " '\\n']"
      ]
     },
     "execution_count": 183,
     "metadata": {},
     "output_type": "execute_result"
    }
   ],
   "source": [
    "simple_tree.xpath('node()')"
   ]
  },
  {
   "cell_type": "code",
   "execution_count": 192,
   "metadata": {},
   "outputs": [
    {
     "data": {
      "text/plain": [
       "[<Element style at 0x107814098>]"
      ]
     },
     "execution_count": 192,
     "metadata": {},
     "output_type": "execute_result"
    }
   ],
   "source": [
    "simple_tree.xpath('//head/style')"
   ]
  },
  {
   "cell_type": "code",
   "execution_count": 208,
   "metadata": {},
   "outputs": [
    {
     "data": {
      "text/plain": [
       "[<Element div at 0x106012e08>, <Element div at 0x106012818>]"
      ]
     },
     "execution_count": 208,
     "metadata": {},
     "output_type": "execute_result"
    }
   ],
   "source": [
    "simple_tree.xpath('//div[@class=\"contentblock\"]')"
   ]
  },
  {
   "cell_type": "code",
   "execution_count": 1,
   "metadata": {},
   "outputs": [
    {
     "ename": "NameError",
     "evalue": "name 'simple_tree' is not defined",
     "output_type": "error",
     "traceback": [
      "\u001b[0;31m---------------------------------------------------------------------------\u001b[0m",
      "\u001b[0;31mNameError\u001b[0m                                 Traceback (most recent call last)",
      "\u001b[0;32m<ipython-input-1-a579d806ce0b>\u001b[0m in \u001b[0;36m<module>\u001b[0;34m()\u001b[0m\n\u001b[0;32m----> 1\u001b[0;31m \u001b[0msimple_tree\u001b[0m\u001b[0;34m.\u001b[0m\u001b[0mxpath\u001b[0m\u001b[0;34m(\u001b[0m\u001b[0;34m'//div[contains(@class,\"contentblock\")]'\u001b[0m\u001b[0;34m)\u001b[0m\u001b[0;34m\u001b[0m\u001b[0m\n\u001b[0m",
      "\u001b[0;31mNameError\u001b[0m: name 'simple_tree' is not defined"
     ]
    }
   ],
   "source": [
    "simple_tree.xpath('//div[contains(@class,\"contentblock\")]')"
   ]
  },
  {
   "cell_type": "code",
   "execution_count": 210,
   "metadata": {},
   "outputs": [
    {
     "data": {
      "text/plain": [
       "True"
      ]
     },
     "execution_count": 210,
     "metadata": {},
     "output_type": "execute_result"
    }
   ],
   "source": [
    "simple_tree.xpath('//div/@class=\"contentblock\"')"
   ]
  },
  {
   "cell_type": "code",
   "execution_count": 216,
   "metadata": {},
   "outputs": [],
   "source": [
    "%run start_selenium.py"
   ]
  },
  {
   "cell_type": "code",
   "execution_count": 237,
   "metadata": {},
   "outputs": [],
   "source": [
    "from selenium import webdriver\n",
    "from selenium.webdriver.common.keys import Keys"
   ]
  },
  {
   "cell_type": "code",
   "execution_count": 230,
   "metadata": {},
   "outputs": [],
   "source": [
    "browser = webdriver.Firefox()\n",
    "browser.get(\"http://www.python.org\")\n",
    "input = browser.find_element_by_tag_name('input')\n",
    "input.send_keys('selenium')"
   ]
  },
  {
   "cell_type": "code",
   "execution_count": null,
   "metadata": {},
   "outputs": [],
   "source": [
    "#sample Netflix scrape\n",
    "browser = webdriver.Firefox()\n",
    "browser.get('http://netflix.com')\n",
    "browser.find_element_by_link_text('Sign In').click()\n",
    "email = browser.find_element_by_css_selector('input#email')\n",
    "email.send_keys(MY_EMAIL)\n",
    "pw = browser.find_element_by_css_selector('input#password')\n",
    "pw.send_keys(MY_PASSWORD, Keys.RETURN)\n",
    "browser.implicitly_wait(10)"
   ]
  },
  {
   "cell_type": "code",
   "execution_count": null,
   "metadata": {},
   "outputs": [],
   "source": [
    "movie_recs = top_pix.find_elements_by_css_selector('div.agMovieSet div.agMovie')\n",
    "\n",
    "first_movie = movie_recs[0].location\n",
    "scroll_down = ActionChains(browser).move_by_offset(10, first_movie.get('y') - 10)\n",
    "scroll_down.perform()\n"
   ]
  },
  {
   "cell_type": "code",
   "execution_count": null,
   "metadata": {},
   "outputs": [],
   "source": [
    "movie_info = WebDriverWait(browser, 10).until(\n",
    "    EC.element_to_be_clickable(By.ID, 'BobMovie'))\n",
    "title = movie_info.find_element_by_class_name('title').text\n",
    "link = movie_info.find_element_by_class_name('mdpLink').get_attribute('href')\n"
   ]
  },
  {
   "cell_type": "markdown",
   "metadata": {},
   "source": [
    "Search Google for 'Selenium'\n",
    "Return a list of the top 5 search results\n",
    "Print out list of the text of top 5 search results\n",
    "Click on first search result"
   ]
  },
  {
   "cell_type": "code",
   "execution_count": 239,
   "metadata": {},
   "outputs": [],
   "source": [
    "from selenium import webdriver\n",
    "from selenium.webdriver.common.keys import Keys\n",
    "from selenium.webdriver.common.action_chains import ActionChains"
   ]
  },
  {
   "cell_type": "code",
   "execution_count": 243,
   "metadata": {
    "scrolled": true
   },
   "outputs": [
    {
     "ename": "TypeError",
     "evalue": "'FirefoxWebElement' object does not support indexing",
     "output_type": "error",
     "traceback": [
      "\u001b[0;31m---------------------------------------------------------------------------\u001b[0m",
      "\u001b[0;31mTypeError\u001b[0m                                 Traceback (most recent call last)",
      "\u001b[0;32m<ipython-input-243-bb2244e3a764>\u001b[0m in \u001b[0;36m<module>\u001b[0;34m()\u001b[0m\n\u001b[1;32m      1\u001b[0m \u001b[0mbrowser\u001b[0m \u001b[0;34m=\u001b[0m \u001b[0mwebdriver\u001b[0m\u001b[0;34m.\u001b[0m\u001b[0mFirefox\u001b[0m\u001b[0;34m(\u001b[0m\u001b[0;34m)\u001b[0m\u001b[0;34m\u001b[0m\u001b[0m\n\u001b[1;32m      2\u001b[0m \u001b[0mbrowser\u001b[0m\u001b[0;34m.\u001b[0m\u001b[0mget\u001b[0m\u001b[0;34m(\u001b[0m\u001b[0;34m'http://duckduckgo.com'\u001b[0m\u001b[0;34m)\u001b[0m\u001b[0;34m\u001b[0m\u001b[0m\n\u001b[0;32m----> 3\u001b[0;31m \u001b[0mquery\u001b[0m \u001b[0;34m=\u001b[0m \u001b[0mbrowser\u001b[0m\u001b[0;34m.\u001b[0m\u001b[0mfind_element_by_tag_name\u001b[0m\u001b[0;34m(\u001b[0m\u001b[0;34m'input'\u001b[0m\u001b[0;34m)\u001b[0m\u001b[0;34m[\u001b[0m\u001b[0;36m2\u001b[0m\u001b[0;34m]\u001b[0m\u001b[0;34m.\u001b[0m\u001b[0msend_keys\u001b[0m\u001b[0;34m(\u001b[0m\u001b[0;34m'Selenium'\u001b[0m\u001b[0;34m,\u001b[0m \u001b[0mKeys\u001b[0m\u001b[0;34m.\u001b[0m\u001b[0mRETURN\u001b[0m\u001b[0;34m)\u001b[0m\u001b[0;34m\u001b[0m\u001b[0m\n\u001b[0m\u001b[1;32m      4\u001b[0m \u001b[0mbrowser\u001b[0m\u001b[0;34m.\u001b[0m\u001b[0mimplicitly_wait\u001b[0m\u001b[0;34m(\u001b[0m\u001b[0;36m10\u001b[0m\u001b[0;34m)\u001b[0m\u001b[0;34m\u001b[0m\u001b[0m\n",
      "\u001b[0;31mTypeError\u001b[0m: 'FirefoxWebElement' object does not support indexing"
     ]
    }
   ],
   "source": [
    "browser = webdriver.Firefox()\n",
    "browser.get('http://duckduckgo.com')\n",
    "query = browser.find_element_by_tag_name('input')[2].send_keys('Selenium', Keys.RETURN)\n",
    "browser.implicitly_wait(10)"
   ]
  },
  {
   "cell_type": "markdown",
   "metadata": {},
   "source": [
    "- CSV Parsing - \n",
    "DictReader(document, delimiter = '\\t'\n",
    "\n",
    "- XLSX Parsing - \n",
    "openpyxl \n",
    "wb = xlrd.open_workbook('data/crunchbase.xlsx')\n",
    "companies = wb.sheet_by_name('Companies')\n",
    "\n",
    "#check kjam github repo "
   ]
  },
  {
   "cell_type": "code",
   "execution_count": null,
   "metadata": {},
   "outputs": [],
   "source": []
  }
 ],
 "metadata": {
  "kernelspec": {
   "display_name": "Python 3",
   "language": "python",
   "name": "python3"
  },
  "language_info": {
   "codemirror_mode": {
    "name": "ipython",
    "version": 3
   },
   "file_extension": ".py",
   "mimetype": "text/x-python",
   "name": "python",
   "nbconvert_exporter": "python",
   "pygments_lexer": "ipython3",
   "version": "3.6.4"
  }
 },
 "nbformat": 4,
 "nbformat_minor": 2
}
