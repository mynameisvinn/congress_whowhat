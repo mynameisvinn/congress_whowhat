{
 "cells": [
  {
   "cell_type": "code",
   "execution_count": null,
   "metadata": {
    "collapsed": true
   },
   "outputs": [],
   "source": [
    "from urllib.request import urlopen\n",
    "import requests\n",
    "from lxml import html\n",
    "from time import time"
   ]
  },
  {
   "cell_type": "markdown",
   "metadata": {},
   "source": [
    "## scenario 1: no multithreading\n",
    "the current approach fetches data from govinfo.gov *sequentially*. "
   ]
  },
  {
   "cell_type": "code",
   "execution_count": null,
   "metadata": {
    "collapsed": true
   },
   "outputs": [],
   "source": [
    "N_DOCUMENTS = 20  # number of documents to crawl\n",
    "xml_range = range(1, N_DOCUMENTS)"
   ]
  },
  {
   "cell_type": "code",
   "execution_count": null,
   "metadata": {},
   "outputs": [],
   "source": [
    "bill_rollnum = []\n",
    "bill_chamber = []\n",
    "bill_action = []\n",
    "bill_date = []\n",
    "bill_voteurl = []\n",
    "\n",
    "start = time()\n",
    "for i in xml_range:\n",
    "    print(\"fetching {}\".format(i))\n",
    "    bill_url = 'https://www.govinfo.gov/bulkdata/BILLSTATUS/115/hr/BILLSTATUS-115hr' + str(i) + '.xml'\n",
    "    bill_source = requests.get(bill_url)\n",
    "    bill_ntree = html.document_fromstring(bill_source.content)\n",
    "    \n",
    "    bill_rollnum_text = bill_ntree.xpath('//recordedvote[descendant::chamber/text()=\"House\"]/rollnumber/text()')\n",
    "    bill_rollnum.append(bill_rollnum_text)\n",
    "    bill_chamber_text = bill_ntree.xpath('//recordedvote/chamber[text()=\"House\"]/text()')\n",
    "    bill_chamber.append(bill_chamber_text)\n",
    "    bill_action_text = bill_ntree.xpath('//recordedvote[descendant::chamber/text()=\"House\"]/fullactionname/text()')\n",
    "    bill_action.append(bill_action_text)\n",
    "    bill_date_text = bill_ntree.xpath('//recordedvote[descendant::chamber/text()=\"House\"]/date/text()')\n",
    "    bill_date.append(bill_date_text)\n",
    "    bill_voteurl_text = bill_ntree.xpath('//recordedvote[descendant::chamber/text()=\"House\"]/url/text()')\n",
    "    bill_voteurl.append(bill_voteurl_text)\n",
    "print(\"execution time\", time() - start)"
   ]
  },
  {
   "cell_type": "markdown",
   "metadata": {},
   "source": [
    "## scenario 2: with multithreading\n",
    "this approach uses multiple threads to fetch data. threads can be reused."
   ]
  },
  {
   "cell_type": "code",
   "execution_count": null,
   "metadata": {
    "collapsed": true
   },
   "outputs": [],
   "source": [
    "from multiprocessing import Manager\n",
    "from concurrent.futures import ThreadPoolExecutor\n",
    "from threading import current_thread"
   ]
  },
  {
   "cell_type": "code",
   "execution_count": null,
   "metadata": {
    "collapsed": true
   },
   "outputs": [],
   "source": [
    "bill_rollnum_temp = []  # temp list for comparison - NEED TO REMOVE TEMP\n",
    "bill_chamber = []\n",
    "bill_action = []\n",
    "bill_date = []\n",
    "bill_voteurl = []\n",
    "\n",
    "def crawl(i):\n",
    "    # define url path\n",
    "    bill_url = 'https://www.govinfo.gov/bulkdata/BILLSTATUS/115/hr/BILLSTATUS-115hr' + str(i) + '.xml'\n",
    "    bill_source = requests.get(bill_url)\n",
    "    bill_ntree = html.document_fromstring(bill_source.content)\n",
    "    \n",
    "    # grab roll numbers\n",
    "    bill_rollnum_temp.append(bill_ntree.xpath('//recordedvote[descendant::chamber/text()=\"House\"]/rollnumber/text()'))\n",
    "    \n",
    "    # grab chamber text\n",
    "    bill_chamber.append(bill_ntree.xpath('//recordedvote/chamber[text()=\"House\"]/text()'))\n",
    "    \n",
    "    # grab action text\n",
    "    bill_action.append(bill_ntree.xpath('//recordedvote[descendant::chamber/text()=\"House\"]/fullactionname/text()'))\n",
    "    \n",
    "    # grab dates\n",
    "    bill_date.append(bill_ntree.xpath('//recordedvote[descendant::chamber/text()=\"House\"]/date/text()'))\n",
    "    \n",
    "    # grab voteurl\n",
    "    bill_voteurl.append(bill_ntree.xpath('//recordedvote[descendant::chamber/text()=\"House\"]/url/text()'))"
   ]
  },
  {
   "cell_type": "code",
   "execution_count": null,
   "metadata": {},
   "outputs": [],
   "source": [
    "N_THREADS = 10  # K threads means K x faster\n",
    "\n",
    "start = time()\n",
    "\n",
    "with ThreadPoolExecutor(max_workers=N_THREADS) as executor:\n",
    "    for idx in xml_range:  \n",
    "        _ = executor.submit(crawl, idx)\n",
    "\n",
    "print(\"execution time\", time() - start)"
   ]
  },
  {
   "cell_type": "code",
   "execution_count": null,
   "metadata": {
    "collapsed": true
   },
   "outputs": [],
   "source": []
  }
 ],
 "metadata": {
  "kernelspec": {
   "display_name": "Python 3",
   "language": "python",
   "name": "python3"
  },
  "language_info": {
   "codemirror_mode": {
    "name": "ipython",
    "version": 3
   },
   "file_extension": ".py",
   "mimetype": "text/x-python",
   "name": "python",
   "nbconvert_exporter": "python",
   "pygments_lexer": "ipython3",
   "version": "3.6.3"
  }
 },
 "nbformat": 4,
 "nbformat_minor": 2
}
